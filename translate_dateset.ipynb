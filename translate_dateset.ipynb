{
 "cells": [
  {
   "cell_type": "code",
   "execution_count": 7,
   "metadata": {},
   "outputs": [],
   "source": [
    "from datasets import load_dataset\n",
    "from dotenv import load_dotenv\n",
    "import os\n",
    "\n",
    "# Load environment variables\n",
    "load_dotenv()\n",
    "\n",
    "# Load dataset from Hugging Face Hub\n",
    "dataset = load_dataset(\"fitlemon/rag-labor-codex-dataset\", token=os.getenv(\"HF_KEY\"))"
   ]
  },
  {
   "cell_type": "code",
   "execution_count": 8,
   "metadata": {},
   "outputs": [],
   "source": [
    "# Импорт для перевода\n",
    "from langchain.chat_models import ChatOpenAI\n",
    "from langchain.prompts.chat import ChatPromptTemplate\n",
    "import os\n",
    "\n",
    "def translate_uz_ru(message: str) -> str:\n",
    "    \"\"\"\n",
    "    Переводит текст с узбекского на русский.\n",
    "    \"\"\"\n",
    "    prompt = ChatPromptTemplate.from_messages([\n",
    "        (\n",
    "            \"system\",\n",
    "            \"You are a helpful assistant that translates {input_language} to {output_language}. The subject of Text is Labor codex. Example input: tatil. Output: отпуск.\"\n",
    "        ),\n",
    "        (\"human\", \"{input}\")\n",
    "    ])\n",
    "    llm = ChatOpenAI(\n",
    "        api_key=os.environ[\"OPENAI_API_KEY\"],\n",
    "        model=\"gpt-4o-mini-2024-07-18\"\n",
    "    )\n",
    "    # Цепочка для перевода\n",
    "    chain = prompt | llm\n",
    "    response = chain.invoke({\n",
    "        \"input_language\": \"Uzbek\",\n",
    "        \"output_language\": \"Russian\",\n",
    "        \"input\": message,  # Передаём сообщение как строку, а не множество!\n",
    "    })\n",
    "    \n",
    "    return response.content"
   ]
  },
  {
   "cell_type": "code",
   "execution_count": 9,
   "metadata": {},
   "outputs": [],
   "source": [
    "# sample\n",
    "sample = dataset[\"train\"][0]['chunk']"
   ]
  },
  {
   "cell_type": "code",
   "execution_count": 5,
   "metadata": {},
   "outputs": [
    {
     "name": "stderr",
     "output_type": "stream",
     "text": [
      "C:\\Users\\Davron\\AppData\\Local\\Temp\\ipykernel_22140\\272192548.py:17: LangChainDeprecationWarning: The class `ChatOpenAI` was deprecated in LangChain 0.0.10 and will be removed in 1.0. An updated version of the class exists in the :class:`~langchain-openai package and should be used instead. To use it run `pip install -U :class:`~langchain-openai` and import as `from :class:`~langchain_openai import ChatOpenAI``.\n",
      "  llm = ChatOpenAI(\n"
     ]
    }
   ],
   "source": [
    "# Переводим текст\n",
    "translated = translate_uz_ru(sample)"
   ]
  },
  {
   "cell_type": "code",
   "execution_count": 6,
   "metadata": {},
   "outputs": [
    {
     "data": {
      "text/plain": [
       "'Работы, выполняемые подрядчиком с участием (помощью) членов его семьи, могут осуществляться без согласия работодателя. При этом между членами семьи подрядчика и работодателем не возникают индивидуальные трудовые отношения. Подрядчик несет ответственность перед работодателем за качество работ (услуг), выполняемых членами его семьи, которые ему помогают.'"
      ]
     },
     "execution_count": 6,
     "metadata": {},
     "output_type": "execute_result"
    }
   ],
   "source": [
    "translated"
   ]
  },
  {
   "cell_type": "code",
   "execution_count": 15,
   "metadata": {},
   "outputs": [
    {
     "name": "stderr",
     "output_type": "stream",
     "text": [
      "100%|██████████| 662/662 [44:52<00:00,  4.07s/it]  \n"
     ]
    }
   ],
   "source": [
    "from tqdm import tqdm\n",
    "\n",
    "# get unique chunks and translate them\n",
    "chunks = set()\n",
    "\n",
    "for item in dataset[\"train\"]:\n",
    "    chunks.add(item['chunk'])\n",
    "\n",
    "for item in dataset['train']:\n",
    "    chunks.add(item['chunk'])\n",
    "\n",
    "# save dict with translations\n",
    "translations = {}\n",
    "\n",
    "for chunk in tqdm(chunks):\n",
    "    translations[chunk] = translate_uz_ru(chunk)"
   ]
  },
  {
   "cell_type": "code",
   "execution_count": 19,
   "metadata": {},
   "outputs": [],
   "source": [
    "# save to pickle\n",
    "import pickle\n",
    "\n",
    "with open('translations.pkl', 'wb') as f:\n",
    "    pickle.dump(translations, f)"
   ]
  }
 ],
 "metadata": {
  "kernelspec": {
   "display_name": ".venv",
   "language": "python",
   "name": "python3"
  },
  "language_info": {
   "codemirror_mode": {
    "name": "ipython",
    "version": 3
   },
   "file_extension": ".py",
   "mimetype": "text/x-python",
   "name": "python",
   "nbconvert_exporter": "python",
   "pygments_lexer": "ipython3",
   "version": "3.11.2"
  }
 },
 "nbformat": 4,
 "nbformat_minor": 2
}
