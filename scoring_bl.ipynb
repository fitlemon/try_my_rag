{
 "cells": [
  {
   "cell_type": "markdown",
   "metadata": {},
   "source": [
    "# Метрики на Baseline моделях"
   ]
  },
  {
   "cell_type": "markdown",
   "metadata": {},
   "source": [
    "### Проверка CUDA"
   ]
  },
  {
   "cell_type": "code",
   "execution_count": 1,
   "metadata": {},
   "outputs": [
    {
     "name": "stdout",
     "output_type": "stream",
     "text": [
      "2.5.1+cu124\n",
      "True\n"
     ]
    }
   ],
   "source": [
    "import torch\n",
    "print(torch.__version__)\n",
    "print(torch.cuda.is_available())"
   ]
  },
  {
   "cell_type": "markdown",
   "metadata": {},
   "source": [
    "#### Скачивание датасета"
   ]
  },
  {
   "cell_type": "code",
   "execution_count": 2,
   "metadata": {},
   "outputs": [],
   "source": [
    "from datasets import load_dataset\n",
    "\n",
    "# Load dataset from Hugging Face Hub\n",
    "dataset = load_dataset(\"fitlemon/rag-labor-codex-dataset\")\n",
    "\n",
    "# Access train/test splits\n",
    "train_data = dataset[\"train\"]\n",
    "test_data = dataset[\"test\"]"
   ]
  },
  {
   "cell_type": "markdown",
   "metadata": {},
   "source": [
    "### Подготовка данных"
   ]
  },
  {
   "cell_type": "code",
   "execution_count": 3,
   "metadata": {},
   "outputs": [],
   "source": [
    "corpus = test_data['chunk']\n",
    "queries = test_data['question']\n",
    "\n",
    "# corpus ids as indexes of list \n",
    "corpus = dict(zip(map(str, range(len(corpus))), corpus))  # Our corpus (cid => document)\n",
    "queries = dict(zip(map(str, range(len(queries))), queries))  # Our queries (qid => question)\n",
    "\n",
    "# relevant docs as indexes of list\n",
    "relevant_docs = {}\n",
    "for qid, corpus_id in zip(queries.keys(), corpus.keys()):\n",
    "    relevant_docs[qid] = {corpus_id}"
   ]
  },
  {
   "cell_type": "markdown",
   "metadata": {},
   "source": [
    "### Получение метрик"
   ]
  },
  {
   "cell_type": "code",
   "execution_count": 4,
   "metadata": {},
   "outputs": [],
   "source": [
    "from sentence_transformers.evaluation import InformationRetrievalEvaluator\n",
    "\n",
    "# Define our evaluator\n",
    "ir_evaluator = InformationRetrievalEvaluator(\n",
    "    queries=queries,\n",
    "    corpus=corpus,\n",
    "    relevant_docs=relevant_docs,\n",
    "    name=\"Codex-RAG-test\",\n",
    ")"
   ]
  },
  {
   "cell_type": "markdown",
   "metadata": {},
   "source": [
    "## Инициализация моделей"
   ]
  },
  {
   "cell_type": "markdown",
   "metadata": {},
   "source": [
    "### Модель intfloat/multilingual-e5-large-instruct"
   ]
  },
  {
   "cell_type": "code",
   "execution_count": 5,
   "metadata": {},
   "outputs": [],
   "source": [
    "from sentence_transformers import SentenceTransformer\n",
    "\n",
    "device = torch.device(\"cuda\" if torch.cuda.is_available() else \"cpu\")\n",
    "\n",
    "model_mle5 = SentenceTransformer('intfloat/multilingual-e5-large-instruct', device=device)"
   ]
  },
  {
   "cell_type": "code",
   "execution_count": 6,
   "metadata": {},
   "outputs": [],
   "source": [
    "results_mle5 = ir_evaluator(model_mle5)"
   ]
  },
  {
   "cell_type": "code",
   "execution_count": 7,
   "metadata": {},
   "outputs": [
    {
     "data": {
      "text/plain": [
       "{'Codex-RAG-test_cosine_accuracy@1': 0.21124620060790272,\n",
       " 'Codex-RAG-test_cosine_accuracy@3': 0.5106382978723404,\n",
       " 'Codex-RAG-test_cosine_accuracy@5': 0.6223404255319149,\n",
       " 'Codex-RAG-test_cosine_accuracy@10': 0.7484802431610942,\n",
       " 'Codex-RAG-test_cosine_precision@1': 0.21124620060790272,\n",
       " 'Codex-RAG-test_cosine_precision@3': 0.1702127659574468,\n",
       " 'Codex-RAG-test_cosine_precision@5': 0.12446808510638299,\n",
       " 'Codex-RAG-test_cosine_precision@10': 0.07484802431610943,\n",
       " 'Codex-RAG-test_cosine_recall@1': 0.21124620060790272,\n",
       " 'Codex-RAG-test_cosine_recall@3': 0.5106382978723404,\n",
       " 'Codex-RAG-test_cosine_recall@5': 0.6223404255319149,\n",
       " 'Codex-RAG-test_cosine_recall@10': 0.7484802431610942,\n",
       " 'Codex-RAG-test_cosine_ndcg@10': 0.47220043881314827,\n",
       " 'Codex-RAG-test_cosine_mrr@10': 0.38442279394027046,\n",
       " 'Codex-RAG-test_cosine_map@100': 0.3934289076926531}"
      ]
     },
     "execution_count": 7,
     "metadata": {},
     "output_type": "execute_result"
    }
   ],
   "source": [
    "results_mle5"
   ]
  },
  {
   "cell_type": "markdown",
   "metadata": {},
   "source": [
    "### Модель BAAI/bge-m3"
   ]
  },
  {
   "cell_type": "code",
   "execution_count": 8,
   "metadata": {},
   "outputs": [],
   "source": [
    "model_bge = SentenceTransformer('BAAI/bge-m3', device=device)"
   ]
  },
  {
   "cell_type": "code",
   "execution_count": 9,
   "metadata": {},
   "outputs": [],
   "source": [
    "results_bge = ir_evaluator(model_bge)"
   ]
  },
  {
   "cell_type": "code",
   "execution_count": 10,
   "metadata": {},
   "outputs": [
    {
     "data": {
      "text/plain": [
       "{'Codex-RAG-test_cosine_accuracy@1': 0.2393617021276596,\n",
       " 'Codex-RAG-test_cosine_accuracy@3': 0.5524316109422492,\n",
       " 'Codex-RAG-test_cosine_accuracy@5': 0.6664133738601824,\n",
       " 'Codex-RAG-test_cosine_accuracy@10': 0.791033434650456,\n",
       " 'Codex-RAG-test_cosine_precision@1': 0.2393617021276596,\n",
       " 'Codex-RAG-test_cosine_precision@3': 0.18414387031408305,\n",
       " 'Codex-RAG-test_cosine_precision@5': 0.13328267477203645,\n",
       " 'Codex-RAG-test_cosine_precision@10': 0.07910334346504558,\n",
       " 'Codex-RAG-test_cosine_recall@1': 0.2393617021276596,\n",
       " 'Codex-RAG-test_cosine_recall@3': 0.5524316109422492,\n",
       " 'Codex-RAG-test_cosine_recall@5': 0.6664133738601824,\n",
       " 'Codex-RAG-test_cosine_recall@10': 0.791033434650456,\n",
       " 'Codex-RAG-test_cosine_ndcg@10': 0.5091873544391511,\n",
       " 'Codex-RAG-test_cosine_mrr@10': 0.4194450475225551,\n",
       " 'Codex-RAG-test_cosine_map@100': 0.4273286505466429}"
      ]
     },
     "execution_count": 10,
     "metadata": {},
     "output_type": "execute_result"
    }
   ],
   "source": [
    "results_bge"
   ]
  },
  {
   "cell_type": "markdown",
   "metadata": {},
   "source": [
    "### Модель jinaai/jina-embeddings-v3"
   ]
  },
  {
   "cell_type": "code",
   "execution_count": 14,
   "metadata": {},
   "outputs": [
    {
     "name": "stderr",
     "output_type": "stream",
     "text": [
      "flash_attn is not installed. Using PyTorch native attention implementation.\n",
      "flash_attn is not installed. Using PyTorch native attention implementation.\n",
      "flash_attn is not installed. Using PyTorch native attention implementation.\n",
      "flash_attn is not installed. Using PyTorch native attention implementation.\n",
      "flash_attn is not installed. Using PyTorch native attention implementation.\n",
      "flash_attn is not installed. Using PyTorch native attention implementation.\n",
      "flash_attn is not installed. Using PyTorch native attention implementation.\n",
      "flash_attn is not installed. Using PyTorch native attention implementation.\n",
      "flash_attn is not installed. Using PyTorch native attention implementation.\n",
      "flash_attn is not installed. Using PyTorch native attention implementation.\n",
      "flash_attn is not installed. Using PyTorch native attention implementation.\n",
      "flash_attn is not installed. Using PyTorch native attention implementation.\n",
      "flash_attn is not installed. Using PyTorch native attention implementation.\n",
      "flash_attn is not installed. Using PyTorch native attention implementation.\n",
      "flash_attn is not installed. Using PyTorch native attention implementation.\n",
      "flash_attn is not installed. Using PyTorch native attention implementation.\n",
      "flash_attn is not installed. Using PyTorch native attention implementation.\n",
      "flash_attn is not installed. Using PyTorch native attention implementation.\n",
      "flash_attn is not installed. Using PyTorch native attention implementation.\n",
      "flash_attn is not installed. Using PyTorch native attention implementation.\n",
      "flash_attn is not installed. Using PyTorch native attention implementation.\n",
      "flash_attn is not installed. Using PyTorch native attention implementation.\n",
      "flash_attn is not installed. Using PyTorch native attention implementation.\n",
      "flash_attn is not installed. Using PyTorch native attention implementation.\n",
      "flash_attn is not installed. Using PyTorch native attention implementation.\n"
     ]
    }
   ],
   "source": [
    "model_jina = SentenceTransformer(\"jinaai/jina-embeddings-v3\", trust_remote_code=True, device=device)"
   ]
  },
  {
   "cell_type": "code",
   "execution_count": 15,
   "metadata": {},
   "outputs": [],
   "source": [
    "results_jina = ir_evaluator(model_jina)"
   ]
  },
  {
   "cell_type": "code",
   "execution_count": 16,
   "metadata": {},
   "outputs": [
    {
     "data": {
      "text/plain": [
       "{'Codex-RAG-test_cosine_accuracy@1': 0.20896656534954408,\n",
       " 'Codex-RAG-test_cosine_accuracy@3': 0.49544072948328266,\n",
       " 'Codex-RAG-test_cosine_accuracy@5': 0.6155015197568389,\n",
       " 'Codex-RAG-test_cosine_accuracy@10': 0.7401215805471124,\n",
       " 'Codex-RAG-test_cosine_precision@1': 0.20896656534954408,\n",
       " 'Codex-RAG-test_cosine_precision@3': 0.16514690982776087,\n",
       " 'Codex-RAG-test_cosine_precision@5': 0.12310030395136776,\n",
       " 'Codex-RAG-test_cosine_precision@10': 0.07401215805471124,\n",
       " 'Codex-RAG-test_cosine_recall@1': 0.20896656534954408,\n",
       " 'Codex-RAG-test_cosine_recall@3': 0.49544072948328266,\n",
       " 'Codex-RAG-test_cosine_recall@5': 0.6155015197568389,\n",
       " 'Codex-RAG-test_cosine_recall@10': 0.7401215805471124,\n",
       " 'Codex-RAG-test_cosine_ndcg@10': 0.46458197494773545,\n",
       " 'Codex-RAG-test_cosine_mrr@10': 0.3772968229845124,\n",
       " 'Codex-RAG-test_cosine_map@100': 0.38637642392182375}"
      ]
     },
     "execution_count": 16,
     "metadata": {},
     "output_type": "execute_result"
    }
   ],
   "source": [
    "results_jina"
   ]
  },
  {
   "cell_type": "markdown",
   "metadata": {},
   "source": [
    "### Итоговые метрики"
   ]
  },
  {
   "cell_type": "code",
   "execution_count": 18,
   "metadata": {},
   "outputs": [],
   "source": [
    "# combine all results and save in dataframe as results of models\n",
    "import pandas as pd\n",
    "\n",
    "results = pd.DataFrame({\n",
    "    \"mle5\": results_mle5,\n",
    "    \"bge\": results_bge,\n",
    "    \"jina\": results_jina\n",
    "})"
   ]
  },
  {
   "cell_type": "code",
   "execution_count": 19,
   "metadata": {},
   "outputs": [
    {
     "data": {
      "text/html": [
       "<div>\n",
       "<style scoped>\n",
       "    .dataframe tbody tr th:only-of-type {\n",
       "        vertical-align: middle;\n",
       "    }\n",
       "\n",
       "    .dataframe tbody tr th {\n",
       "        vertical-align: top;\n",
       "    }\n",
       "\n",
       "    .dataframe thead th {\n",
       "        text-align: right;\n",
       "    }\n",
       "</style>\n",
       "<table border=\"1\" class=\"dataframe\">\n",
       "  <thead>\n",
       "    <tr style=\"text-align: right;\">\n",
       "      <th></th>\n",
       "      <th>mle5</th>\n",
       "      <th>bge</th>\n",
       "      <th>jina</th>\n",
       "    </tr>\n",
       "  </thead>\n",
       "  <tbody>\n",
       "    <tr>\n",
       "      <th>Codex-RAG-test_cosine_accuracy@1</th>\n",
       "      <td>0.211246</td>\n",
       "      <td>0.239362</td>\n",
       "      <td>0.208967</td>\n",
       "    </tr>\n",
       "    <tr>\n",
       "      <th>Codex-RAG-test_cosine_accuracy@3</th>\n",
       "      <td>0.510638</td>\n",
       "      <td>0.552432</td>\n",
       "      <td>0.495441</td>\n",
       "    </tr>\n",
       "    <tr>\n",
       "      <th>Codex-RAG-test_cosine_accuracy@5</th>\n",
       "      <td>0.622340</td>\n",
       "      <td>0.666413</td>\n",
       "      <td>0.615502</td>\n",
       "    </tr>\n",
       "    <tr>\n",
       "      <th>Codex-RAG-test_cosine_accuracy@10</th>\n",
       "      <td>0.748480</td>\n",
       "      <td>0.791033</td>\n",
       "      <td>0.740122</td>\n",
       "    </tr>\n",
       "    <tr>\n",
       "      <th>Codex-RAG-test_cosine_precision@1</th>\n",
       "      <td>0.211246</td>\n",
       "      <td>0.239362</td>\n",
       "      <td>0.208967</td>\n",
       "    </tr>\n",
       "    <tr>\n",
       "      <th>Codex-RAG-test_cosine_precision@3</th>\n",
       "      <td>0.170213</td>\n",
       "      <td>0.184144</td>\n",
       "      <td>0.165147</td>\n",
       "    </tr>\n",
       "    <tr>\n",
       "      <th>Codex-RAG-test_cosine_precision@5</th>\n",
       "      <td>0.124468</td>\n",
       "      <td>0.133283</td>\n",
       "      <td>0.123100</td>\n",
       "    </tr>\n",
       "    <tr>\n",
       "      <th>Codex-RAG-test_cosine_precision@10</th>\n",
       "      <td>0.074848</td>\n",
       "      <td>0.079103</td>\n",
       "      <td>0.074012</td>\n",
       "    </tr>\n",
       "    <tr>\n",
       "      <th>Codex-RAG-test_cosine_recall@1</th>\n",
       "      <td>0.211246</td>\n",
       "      <td>0.239362</td>\n",
       "      <td>0.208967</td>\n",
       "    </tr>\n",
       "    <tr>\n",
       "      <th>Codex-RAG-test_cosine_recall@3</th>\n",
       "      <td>0.510638</td>\n",
       "      <td>0.552432</td>\n",
       "      <td>0.495441</td>\n",
       "    </tr>\n",
       "    <tr>\n",
       "      <th>Codex-RAG-test_cosine_recall@5</th>\n",
       "      <td>0.622340</td>\n",
       "      <td>0.666413</td>\n",
       "      <td>0.615502</td>\n",
       "    </tr>\n",
       "    <tr>\n",
       "      <th>Codex-RAG-test_cosine_recall@10</th>\n",
       "      <td>0.748480</td>\n",
       "      <td>0.791033</td>\n",
       "      <td>0.740122</td>\n",
       "    </tr>\n",
       "    <tr>\n",
       "      <th>Codex-RAG-test_cosine_ndcg@10</th>\n",
       "      <td>0.472200</td>\n",
       "      <td>0.509187</td>\n",
       "      <td>0.464582</td>\n",
       "    </tr>\n",
       "    <tr>\n",
       "      <th>Codex-RAG-test_cosine_mrr@10</th>\n",
       "      <td>0.384423</td>\n",
       "      <td>0.419445</td>\n",
       "      <td>0.377297</td>\n",
       "    </tr>\n",
       "    <tr>\n",
       "      <th>Codex-RAG-test_cosine_map@100</th>\n",
       "      <td>0.393429</td>\n",
       "      <td>0.427329</td>\n",
       "      <td>0.386376</td>\n",
       "    </tr>\n",
       "  </tbody>\n",
       "</table>\n",
       "</div>"
      ],
      "text/plain": [
       "                                        mle5       bge      jina\n",
       "Codex-RAG-test_cosine_accuracy@1    0.211246  0.239362  0.208967\n",
       "Codex-RAG-test_cosine_accuracy@3    0.510638  0.552432  0.495441\n",
       "Codex-RAG-test_cosine_accuracy@5    0.622340  0.666413  0.615502\n",
       "Codex-RAG-test_cosine_accuracy@10   0.748480  0.791033  0.740122\n",
       "Codex-RAG-test_cosine_precision@1   0.211246  0.239362  0.208967\n",
       "Codex-RAG-test_cosine_precision@3   0.170213  0.184144  0.165147\n",
       "Codex-RAG-test_cosine_precision@5   0.124468  0.133283  0.123100\n",
       "Codex-RAG-test_cosine_precision@10  0.074848  0.079103  0.074012\n",
       "Codex-RAG-test_cosine_recall@1      0.211246  0.239362  0.208967\n",
       "Codex-RAG-test_cosine_recall@3      0.510638  0.552432  0.495441\n",
       "Codex-RAG-test_cosine_recall@5      0.622340  0.666413  0.615502\n",
       "Codex-RAG-test_cosine_recall@10     0.748480  0.791033  0.740122\n",
       "Codex-RAG-test_cosine_ndcg@10       0.472200  0.509187  0.464582\n",
       "Codex-RAG-test_cosine_mrr@10        0.384423  0.419445  0.377297\n",
       "Codex-RAG-test_cosine_map@100       0.393429  0.427329  0.386376"
      ]
     },
     "execution_count": 19,
     "metadata": {},
     "output_type": "execute_result"
    }
   ],
   "source": [
    "results"
   ]
  }
 ],
 "metadata": {
  "kernelspec": {
   "display_name": ".venv",
   "language": "python",
   "name": "python3"
  },
  "language_info": {
   "codemirror_mode": {
    "name": "ipython",
    "version": 3
   },
   "file_extension": ".py",
   "mimetype": "text/x-python",
   "name": "python",
   "nbconvert_exporter": "python",
   "pygments_lexer": "ipython3",
   "version": "3.11.2"
  }
 },
 "nbformat": 4,
 "nbformat_minor": 2
}
