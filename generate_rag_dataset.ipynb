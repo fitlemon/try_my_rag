{
 "cells": [
  {
   "cell_type": "markdown",
   "metadata": {},
   "source": [
    "### Load the document"
   ]
  },
  {
   "cell_type": "code",
   "execution_count": 1,
   "metadata": {},
   "outputs": [],
   "source": [
    "from langchain_community.document_loaders import PyPDFLoader\n",
    "\n",
    "loader = PyPDFLoader(\"data/labor_codex.pdf\")\n",
    "\n",
    "# Load a PDF file\n",
    "docs = loader.load()"
   ]
  },
  {
   "cell_type": "markdown",
   "metadata": {},
   "source": [
    "### Split to chunks"
   ]
  },
  {
   "cell_type": "code",
   "execution_count": 2,
   "metadata": {},
   "outputs": [],
   "source": [
    "text = \"\"\n",
    "\n",
    "for i in range(len(docs)):\n",
    "    text += docs[i].page_content"
   ]
  },
  {
   "cell_type": "markdown",
   "metadata": {},
   "source": [
    "#### Custom Splitter"
   ]
  },
  {
   "cell_type": "code",
   "execution_count": 3,
   "metadata": {},
   "outputs": [],
   "source": [
    "from langchain.schema import Document\n",
    "from langchain.text_splitter import TextSplitter, RecursiveCharacterTextSplitter\n",
    "import re\n",
    "from typing import List\n",
    "\n",
    "class RegexTextSplitter(TextSplitter):\n",
    "    def __init__(self, chapter_pattern: str, section_pattern: str, chunk_size: int, chunk_overlap: int):\n",
    "        \"\"\"\n",
    "        :param chapter_pattern: Regex pattern for chapters (e.g., r\"(\\\\d+-bob)\")\n",
    "        :param section_pattern: Regex pattern for articles (modda), (e.g., r\"(\\\\d+-modda)\")\n",
    "        :param chunk_size: Max tokens per chunk\n",
    "        :param chunk_overlap: Overlap tokens between consecutive chunks\n",
    "        \"\"\"\n",
    "        self.chapter_pattern = chapter_pattern\n",
    "        self.section_pattern = section_pattern\n",
    "        self.chunk_size = chunk_size\n",
    "        self.chunk_overlap = chunk_overlap\n",
    "\n",
    "        # Splitting text into chunks using GPT-4 tokenizer (can be replaced with another model)\n",
    "        self.recursive_splitter = RecursiveCharacterTextSplitter.from_tiktoken_encoder(\n",
    "            model_name=\"gpt-4\",\n",
    "            chunk_size=self.chunk_size,\n",
    "            chunk_overlap=self.chunk_overlap,\n",
    "        )\n",
    "\n",
    "    def split_by_chapter(self, text: str) -> List[dict]:\n",
    "        \"\"\"\n",
    "        Splits the entire text by chapters according to chapter_pattern.\n",
    "        Returns a list of dicts like:\n",
    "        [\n",
    "        {\"chapter_title\": \"II BO‘LIM. MEHNAT SOHASIDAGI IJTIMOIY SHERIKLIK\", \"content\": \"Text of that chapter\"},\n",
    "        ...\n",
    "        ]\n",
    "        \"\"\"\n",
    "        chapters = []\n",
    "        pattern = (\n",
    "            rf\"({self.chapter_pattern})\\s*\"        # group(1): chapter number/title, e.g., \"II BO‘LIM.\"\n",
    "            rf\"([\\s\\S]*?)(?=\\n[0-9])\"             # group(2): chapter name lazily until \\n followed by digit\n",
    "            rf\"\\n([\\s\\S]*?)(?={self.chapter_pattern}|$)\"  # group(3): chapter content until next chapter or EOF\n",
    "        )\n",
    "\n",
    "        chapter_matches = re.findall(pattern, text, flags=re.DOTALL)\n",
    "        for match in chapter_matches:\n",
    "            chapter_title = f\"{match[0].strip()} {match[1].strip()}\"  # Combine number and title\n",
    "            chapter_content = match[2].strip()  # Extract content\n",
    "            chapters.append({\n",
    "                \"chapter_title\": chapter_title,\n",
    "                \"content\": chapter_content\n",
    "            })\n",
    "        return chapters\n",
    "\n",
    "\n",
    "\n",
    "    def split_by_section(self, chapter: dict) -> List[dict]:\n",
    "        \"\"\"\n",
    "        We assume each article (modda) can look like:\n",
    "\n",
    "            1-modda. Article Title\n",
    "            The rest of the article content...\n",
    "        \n",
    "        but sometimes the \"Article Title\" might be on the same line or might\n",
    "        not have a trailing newline.\n",
    "\n",
    "        This pattern:\n",
    "        - Group(1): e.g. \"1-modda\"\n",
    "        - Group(2): the article title (from after \".\" up to the newline or end of line)\n",
    "        - Group(3): (optional) the rest of that article's text (until the next modda, bob, or EOF)\n",
    "        \"\"\"\n",
    "\n",
    "        text = chapter[\"content\"]\n",
    "\n",
    "      \n",
    "        pattern = (\n",
    "    rf\"({self.section_pattern})\\.\\s*\"                  # group(1): modda number, e.g. \"578-modda\"\n",
    "    rf\"([\\s\\S]*?)(?=\\n[A-ZА-Я])\"                       # group(2): captures text lazily until we see newline + uppercase\n",
    "    rf\"(.*?)(?=\\n{self.section_pattern}|$)\"\n",
    ")\n",
    "\n",
    "\n",
    "        matches = re.findall(pattern, text, flags=re.DOTALL)\n",
    "\n",
    "        sections = []\n",
    "        for match in matches:\n",
    "            section_title = match[1].strip()     # e.g. \"1-modda\"\n",
    "            section_name  = match[2].strip()     # e.g. \"Ushbu Kodeks bilan...\"\n",
    "            section_body  = match[3].strip() if match[3] else \"\"  # rest of the modda text\n",
    "\n",
    "            sections.append({\n",
    "                \"chapter_title\": chapter[\"chapter_title\"],\n",
    "                \"section_title\": section_title,\n",
    "                \"section_name\":  section_name.replace(\"\\n\", \"\"),\n",
    "                \"content\":       section_body\n",
    "            })\n",
    "        # print(matches)\n",
    "        return sections\n",
    "\n",
    "\n",
    "    def split_with_chunks(self, section: dict) -> List[Document]:\n",
    "        \"\"\"\n",
    "        Breaks the content of a single article (section) into token-based chunks\n",
    "        using RecursiveCharacterTextSplitter.\n",
    "        \"\"\"\n",
    "        chunks = self.recursive_splitter.split_text(section[\"content\"])\n",
    "        documents = []\n",
    "        for chunk in chunks:\n",
    "            doc = Document(\n",
    "                page_content=chunk,\n",
    "                metadata={\n",
    "                    \"chapter\":       section[\"chapter_title\"],\n",
    "                    \"section\":       section[\"section_title\"],\n",
    "                    \"section_name\":  section[\"section_name\"],\n",
    "                }\n",
    "            )\n",
    "            documents.append(doc)\n",
    "        return documents\n",
    "\n",
    "    def split_text(self, text: str) -> List[Document]:\n",
    "        \"\"\"\n",
    "        1) Split by chapters -> 2) for each chapter, find all modda -> 3) chunk each modda\n",
    "        \"\"\"\n",
    "        all_documents = []\n",
    "        chapters = self.split_by_chapter(text)\n",
    "        for chapter in chapters:\n",
    "            sections = self.split_by_section(chapter)\n",
    "            for section in sections:\n",
    "                chunks = self.split_with_chunks(section)\n",
    "                all_documents.extend(chunks)\n",
    "        return all_documents\n",
    "\n",
    "    def split_documents(self, documents: List[Document]) -> List[Document]:\n",
    "        \"\"\"\n",
    "        Runs the splitting process for each document in the list.\n",
    "        \"\"\"\n",
    "        split_documents = []\n",
    "        for doc in documents:\n",
    "            split_docs = self.split_text(doc.page_content)\n",
    "            split_documents.extend(split_docs)\n",
    "        return split_documents"
   ]
  },
  {
   "cell_type": "code",
   "execution_count": 6,
   "metadata": {},
   "outputs": [],
   "source": [
    "text = \"\"\n",
    "\n",
    "for i in range(len(docs)):\n",
    "    text += docs[i].page_content"
   ]
  },
  {
   "cell_type": "code",
   "execution_count": 7,
   "metadata": {},
   "outputs": [],
   "source": [
    "chapter_pattern = r\"(?:[IVXLCDM]+ BO‘LIM\\.)\"   # например \"1-bob\"\n",
    "section_pattern = r\"(\\d+-modda)\"  # \"1-modda\"\n",
    "\n",
    "splitter = RegexTextSplitter(\n",
    "    chapter_pattern=chapter_pattern,\n",
    "    section_pattern=section_pattern,\n",
    "    chunk_size=800,\n",
    "    chunk_overlap=400\n",
    ")\n",
    "\n",
    "doc = Document(page_content=text)\n",
    "docs = splitter.split_documents([doc])"
   ]
  },
  {
   "cell_type": "code",
   "execution_count": 8,
   "metadata": {},
   "outputs": [
    {
     "data": {
      "text/plain": [
       "[Document(metadata={'chapter': 'I BO‘LIM. UMUMIY QOIDALAR', 'section': '3-modda', 'section_name': 'Yakka tartibdagi mehnatga oid munosabatlarni va ular bilan bevosita bog‘liq bo‘lgan ijtimoiy munosabatlarni huquqiy jihatdan tartibga solishning asosiy prinsiplari'}, page_content='Yakka tartibdagi mehnatga oid munosabatlarni va ular bilan bevosita bog‘liq bo‘lgan \\nijtimoiy munosabatlarni huquqiy jihatdan tartibga solishning asosiy prinsiplari quyidagilardan iborat: \\nmehnat huquqlarining tengligi, mehnat va mashg‘ulotlar sohasida kamsitishni taqiqlash; \\nmehnat erkinligi va majburiy mehnatni taqiqlash; \\nmehnat sohasidagi ijtimoiy sheriklik; \\nmehnat huquqlari ta’minlanishining va mehnat majburiyatlari bajarilishining \\nkafolatlanganligi; \\nxodimning huquqiy holati yomonlashishiga yo‘l qo‘yilmasligi.'),\n",
       " Document(metadata={'chapter': 'I BO‘LIM. UMUMIY QOIDALAR', 'section': '4-modda', 'section_name': 'Mehnat huquqlarining tengligi, mehnat va mashg‘ulotlar sohasida kamsitishni taqiqlash prinsipi'}, page_content='Har kim mehnat huquqlarini amalga oshirish va himoya qilishda teng imkoniyatlarga ega. \\nOldingi tahrirga qarang. \\nMehnat va mashg‘ulotlar sohasida kamsitish taqiqlanadi. Jinsi, yoshi, irqi, millati, tili, \\nijtimoiy kelib chiqishi, qarindoshlarida sudlanganlikning mavjudl igi, mulkiy holati va mansab \\nmavqeyi, yashash joyi, dinga bo‘lgan munosabati, e’tiqodi, jamoat birlashmalariga mansubligi, \\nshuningdek xodimlarning ishchanlik sifatlari va mehnati natijalari bilan bog‘liq bo‘lmagan boshqa \\njihatlariga qarab mehnat va mashg‘u lotlar sohasida biror -bir to‘g‘ridan -to‘g‘ri yoki bilvosita \\ncheklovlar belgilash, xuddi shuningdek biror -bir to‘g‘ridan-to‘g‘ri yoki bilvosita imtiyozlar berish \\nkamsitishdir. \\n(4-moddaning ikkinchi qismi O‘zbekiston Respublikasining 2024-yil 20-sentabrdagi O‘RQ-963-sonli \\nQonuni tahririda — Qonunchilik ma’lumotlari milliy bazasi, 21.09.2024-y., 03/24/963/0735-son) \\nMehnat va mashg‘ulotlar sohasida xodimlarning huquqlarini mehnatning muayyan turiga \\nxos bo‘lgan talablar yoki yuqoriroq ijtimoiy himoyaga muhtoj bo‘lgan shaxslar (oilaviy vazifalarni \\nbajarish bilan band bo‘lgan shaxslar, voyaga yetmaganlar, nogironligi bo‘ lgan shaxslar, homilador ayollar va boshqalar) to‘g‘risidagi alohida g‘amxo‘rlik bilan bog‘liq holda asoslangan tarzda farqlash, \\nistisno etish, ularga afzallik berish, shuningdek ularni cheklash kamsitish deb hisoblanmaydi. \\nAyrim toifadagi xodimlar mehnatini huquqiy jihatdan tartibga solish borasidagi asoslangan \\nfarqlar xodimning ish beruvchi bilan mehnat aloqasi xususiyatiga, mehnat faoliyati amalga \\noshiriladigan joyga, xodim mehnatining shart -sharoitlari va xususiyatiga, ish beruvchining huquqiy \\nmaqomiga, ba’zi tarmoqlar va kasblardagi xodimlar mehnatining o‘ziga xos xususiyatlariga, \\norganizmning psixofiziologik xususiyatlariga, oilaviy vazifalarning mavjudligiga hamda boshqa'),\n",
       " Document(metadata={'chapter': 'I BO‘LIM. UMUMIY QOIDALAR', 'section': '4-modda', 'section_name': 'Mehnat huquqlarining tengligi, mehnat va mashg‘ulotlar sohasida kamsitishni taqiqlash prinsipi'}, page_content='Mehnat va mashg‘ulotlar sohasida xodimlarning huquqlarini mehnatning muayyan turiga \\nxos bo‘lgan talablar yoki yuqoriroq ijtimoiy himoyaga muhtoj bo‘lgan shaxslar (oilaviy vazifalarni \\nbajarish bilan band bo‘lgan shaxslar, voyaga yetmaganlar, nogironligi bo‘ lgan shaxslar, homilador ayollar va boshqalar) to‘g‘risidagi alohida g‘amxo‘rlik bilan bog‘liq holda asoslangan tarzda farqlash, \\nistisno etish, ularga afzallik berish, shuningdek ularni cheklash kamsitish deb hisoblanmaydi. \\nAyrim toifadagi xodimlar mehnatini huquqiy jihatdan tartibga solish borasidagi asoslangan \\nfarqlar xodimning ish beruvchi bilan mehnat aloqasi xususiyatiga, mehnat faoliyati amalga \\noshiriladigan joyga, xodim mehnatining shart -sharoitlari va xususiyatiga, ish beruvchining huquqiy \\nmaqomiga, ba’zi tarmoqlar va kasblardagi xodimlar mehnatining o‘ziga xos xususiyatlariga, \\norganizmning psixofiziologik xususiyatlariga, oilaviy vazifalarning mavjudligiga hamda boshqa \\nobyektiv holatlarga bog‘liq bo‘lishi mumkin.  \\nMehnat va (yoki) mashg‘ulotlar soha sida o‘zini kamsitilgan deb hisoblagan shaxs \\nkamsitilish fakti ustidan belgilangan tartibda shikoyat qilishi, shu jumladan kamsitishni bartaraf etish \\nhamda o‘ziga yetkazilgan moddiy zararning o‘rnini qoplash va ma’naviy ziyonning kompensatsiya \\nqilinishi to‘g‘risidagi ariza bilan sudga murojaat qilishi mumkin.'),\n",
       " Document(metadata={'chapter': 'I BO‘LIM. UMUMIY QOIDALAR', 'section': '5-modda', 'section_name': 'Mehnat erkinligi va majburiy mehnatni taqiqlash prinsipi'}, page_content='Mehnat erkinligi har kimning mehnat qilishga bo‘lgan o‘z qobiliyatlarini tasarruf etish, \\nularni qonun bilan taqiqlanmagan har qanday sh aklda amalga oshirish, mashg‘ulot turini, kasbni va \\nmutaxassislikni, ish joyini hamda mehnat sharoitlarini erkin tanlash huquqini anglatadi. \\nYakka tartibdagi mehnatga oid munosabatlarga muvofiq mehnat erkinligi mehnat \\nshartnomasi erkinligida namoyon bo‘lib, bu quyidagilarni anglatadi: \\nxodimlar va ish beruvchilarning mehnat shartnomasini tuzishdagi erkinligini. Xodimni va \\nish beruvchini mehnat shartnomasini tuzishga majburlashga yo‘l qo‘yilmaydi. Ish beruvchi xodim \\nbilan mehnat shartnomasini ushbu Kodeksda, qonunda yoki ixtiyoriy ravishda olingan majburiyatda \\nish beruvchining shartnoma tuzish majburiyati nazarda tutilgan hollarda tuzishi shart; \\nmehnat shartnomasining shartnomaviy (asosiy va qo‘shimcha) shartlarini ushbu shartnoma \\ntaraflarining kelishuviga ko‘ra belgilashni; \\nmehnat shartnomasini xodim va ish beruvchi o‘rtasidagi kelishuvga ko‘ra o‘zgartirish \\nimkoniyatini; \\nhar qanday mehnat shartnomasini ushbu shartnoma taraflarining kelishuviga ko‘ra istalgan \\nvaqtda bekor qilish imkoniyatini; \\nxodimning ushbu Kodeksda belgilangan tartibda mehnat shartnomasini o‘z tashabbusi bilan \\nbekor qilish huquqini; \\nish beruvchining xodim bilan tuzilgan mehnat shartnomasini ushbu Kodeksda mehnat \\nshartnomasini bekor qilish uchun nazarda tutilgan asoslar mavjud bo‘lganda va belg ilangan tartibga \\nrioya etilgan holda o‘z tashabbusi bilan bekor qilish huquqini; \\nushbu Kodeksda yoki boshqa qonunda belgilangan hollarda, mehnat shartnomasida uni \\nbekor qilishning qo‘shimcha asoslarini nazarda tutish imkoniyatini. \\nMajburiy mehnat taqiqlanadi. \\nMajburiy mehnat biror-bir jismoniy shaxsdan jazoni qo‘llash tahdidi ostida talab etiladigan, \\nbajarilishi uchun ushbu shaxs ixtiyoriy ravishda o‘z xizmatlarini taklif qilmagan har qanday ishni')]"
      ]
     },
     "execution_count": 8,
     "metadata": {},
     "output_type": "execute_result"
    }
   ],
   "source": [
    "docs[2:6]"
   ]
  },
  {
   "cell_type": "code",
   "execution_count": 9,
   "metadata": {},
   "outputs": [
    {
     "data": {
      "text/plain": [
       "[Document(metadata={'chapter': 'VII BO‘LIM. XODIMLARNING MEHNAT HUQUQLARINI HIMOYA QILISH. MEHNAT \\nNIZOLARINI KO‘RIB CHIQISH 31-bob. Umumiy qoidalar', 'section': '580-modda', 'section_name': 'Jamoaviy mehnat nizosini hal etish ( tartibga solish) jarayonida mehnat nizosining taraflari erishgan kelishuvlar va ularning bajarilishi ustidan nazorat'}, page_content='Nizoni hal etish (tartibga solish) jarayonida jamoaviy mehnat nizosi taraflari erishgan \\nkelishuvlar yozma shaklda rasmiylashtiriladi va jam oaviy mehnat nizosi taraflari uchun majburiy \\nkuchga ega. Ularning bajarilishi ustidan nazorat jamoaviy mehnat nizosining taraflari, shuningdek \\nmehnat nizolarini tartibga solish bo‘yicha davlat organlari tomonidan amalga oshiriladi.'),\n",
       " Document(metadata={'chapter': 'VII BO‘LIM. XODIMLARNING MEHNAT HUQUQLARINI HIMOYA QILISH. MEHNAT \\nNIZOLARINI KO‘RIB CHIQISH 31-bob. Umumiy qoidalar', 'section': '581-modda', 'section_name': 'Da’vo xususiyatiga ega jamoaviy mehnat nizolarini sudda ko‘rib chiqish'}, page_content='Qonunchilikni, jamoa kelishuvlarini va jamoa shartnomasini, ish beruvchi tomonidan kasaba \\nuyushmasi qo‘mitasi bilan kelishilgan holda qabul qilingan ichki hujjatlarni qo‘llash xususidagi \\njamoaviy mehnat nizolari sud tomonidan ko‘rib chiqilishi lozim. \\nUshbu moddaning birinchi qismida ko‘rsatilgan jamoaviy mehnat nizolarini sudlarda ko‘rib \\nchiqish hamda sud qarorlarini ijro etish chog‘ida ushbu Kodeksda y akka tartibdagi mehnat nizolari \\nuchun belgilangan tegishli qoidalar va muddatlar qo‘llaniladi. \\n \\n(Qonunchilik ma’lumotlari milliy bazasi, 29.10.2022-y., 02/22/798/0972-son; 12.04.2023-y., \\n03/23/829/0208-son; 29.11.2023-y., 03/23/880/0905-son; 22.02.2024-y., 03/24/911/0142-son; 04.07.2024-y., \\n03/24/934/0469-son; 21.09.2024-y., 03/24/963/0735-son)')]"
      ]
     },
     "execution_count": 9,
     "metadata": {},
     "output_type": "execute_result"
    }
   ],
   "source": [
    "docs[-2:]"
   ]
  },
  {
   "cell_type": "code",
   "execution_count": 10,
   "metadata": {},
   "outputs": [],
   "source": [
    "# replace 31-bob. Umumiy qoidalar with \"\" from chapter in metadata\n",
    "for doc in docs:\n",
    "    doc.metadata[\"chapter\"] = doc.metadata[\"chapter\"].replace(\"31-bob. Umumiy qoidalar\", \"\")"
   ]
  },
  {
   "cell_type": "code",
   "execution_count": 11,
   "metadata": {},
   "outputs": [
    {
     "data": {
      "text/plain": [
       "[Document(metadata={'chapter': 'VII BO‘LIM. XODIMLARNING MEHNAT HUQUQLARINI HIMOYA QILISH. MEHNAT \\nNIZOLARINI KO‘RIB CHIQISH ', 'section': '580-modda', 'section_name': 'Jamoaviy mehnat nizosini hal etish ( tartibga solish) jarayonida mehnat nizosining taraflari erishgan kelishuvlar va ularning bajarilishi ustidan nazorat'}, page_content='Nizoni hal etish (tartibga solish) jarayonida jamoaviy mehnat nizosi taraflari erishgan \\nkelishuvlar yozma shaklda rasmiylashtiriladi va jam oaviy mehnat nizosi taraflari uchun majburiy \\nkuchga ega. Ularning bajarilishi ustidan nazorat jamoaviy mehnat nizosining taraflari, shuningdek \\nmehnat nizolarini tartibga solish bo‘yicha davlat organlari tomonidan amalga oshiriladi.'),\n",
       " Document(metadata={'chapter': 'VII BO‘LIM. XODIMLARNING MEHNAT HUQUQLARINI HIMOYA QILISH. MEHNAT \\nNIZOLARINI KO‘RIB CHIQISH ', 'section': '581-modda', 'section_name': 'Da’vo xususiyatiga ega jamoaviy mehnat nizolarini sudda ko‘rib chiqish'}, page_content='Qonunchilikni, jamoa kelishuvlarini va jamoa shartnomasini, ish beruvchi tomonidan kasaba \\nuyushmasi qo‘mitasi bilan kelishilgan holda qabul qilingan ichki hujjatlarni qo‘llash xususidagi \\njamoaviy mehnat nizolari sud tomonidan ko‘rib chiqilishi lozim. \\nUshbu moddaning birinchi qismida ko‘rsatilgan jamoaviy mehnat nizolarini sudlarda ko‘rib \\nchiqish hamda sud qarorlarini ijro etish chog‘ida ushbu Kodeksda y akka tartibdagi mehnat nizolari \\nuchun belgilangan tegishli qoidalar va muddatlar qo‘llaniladi. \\n \\n(Qonunchilik ma’lumotlari milliy bazasi, 29.10.2022-y., 02/22/798/0972-son; 12.04.2023-y., \\n03/23/829/0208-son; 29.11.2023-y., 03/23/880/0905-son; 22.02.2024-y., 03/24/911/0142-son; 04.07.2024-y., \\n03/24/934/0469-son; 21.09.2024-y., 03/24/963/0735-son)')]"
      ]
     },
     "execution_count": 11,
     "metadata": {},
     "output_type": "execute_result"
    }
   ],
   "source": [
    "docs[-2:]"
   ]
  },
  {
   "cell_type": "markdown",
   "metadata": {},
   "source": [
    "### Try to generate"
   ]
  },
  {
   "cell_type": "code",
   "execution_count": 12,
   "metadata": {},
   "outputs": [],
   "source": [
    "import os\n",
    "import json\n",
    "from langchain_openai import ChatOpenAI\n",
    "from langchain_core.prompts import ChatPromptTemplate\n",
    "from langchain_core.output_parsers import JsonOutputParser"
   ]
  },
  {
   "cell_type": "code",
   "execution_count": 72,
   "metadata": {},
   "outputs": [
    {
     "data": {
      "text/plain": [
       "True"
      ]
     },
     "execution_count": 72,
     "metadata": {},
     "output_type": "execute_result"
    }
   ],
   "source": [
    "# read .env file\n",
    "from dotenv import load_dotenv\n",
    "\n",
    "load_dotenv()"
   ]
  },
  {
   "cell_type": "code",
   "execution_count": 14,
   "metadata": {},
   "outputs": [],
   "source": [
    "label_template = \"\"\"\n",
    "You are an AI assistant tasked with generating 10 highly focused question-answer pairs **in Uzbek** based **strictly** on the provided document chunk.\n",
    "\n",
    "Context:\n",
    "- Document: \"{chunk}\"\n",
    "- Chapter Name: \"{chapter}\"\n",
    "- Section: \"{section}\"\n",
    "- Section Name: {section_name}\"\n",
    "\n",
    "Instructions:\n",
    "1. Carefully analyze the given chunk of the document and extract key facts, topics, or concepts.\n",
    "2. Generate **10 questions** that are maximally semantically close to the specific content of this chunk.\n",
    "    - All questions must be **strictly tied** to the content of the chunk, chapter, and section.\n",
    "    - Reuse or closely paraphrase phrases from the chunk wherever possible to maintain high relevance.\n",
    "    - Incorporate synonyms or light rephrasings to capture different ways a user might query this content (e.g., \"mehnat huquqlari\" ↔ \"ish huquqlari\").\n",
    "    - Avoid any extrapolation, assumptions, or references to external knowledge.\n",
    "3. Write the **answers** based only on the given chunk. **Do not invent or assume additional information.**\n",
    "4. Explicitly reference the **chapter name** and **section name** in both the questions and answers for clarity and traceability.\n",
    "5. Use natural, conversational Uzbek language when generating questions. Occasionally include mild typos or colloquialisms to mimic real user queries, but ensure they remain understandable.\n",
    "6. Include a reference link in each answer pointing to the document, chapter, and section for traceability.\n",
    "7. All questions must revolve around a **common theme** in the chunk (e.g., “mehnat huquqlari,” “ish beruvchilarning huquqlari,” etc.).\n",
    "\n",
    "**Example of how to use phrases from the chunk (paraphrasing)**:\n",
    "- If the chunk states: \"Mehnat qilish, erkin ish tanlash va ishsizlikdan himoyalanish huquqi davlat kafolatlari bilan belgilanadi.\"\n",
    "  - A suitable question might be: \"Mehnat qilish va erkin ish tanlash huquqlari haqida {{chapter}} va {{section}} nima deyilgan?\"\n",
    "  - The answer must be grounded in the exact text: \"Bu huquqlar davlat kafolatlari orqali belgilanadi. Havola: O‘ZBEKISTON RESPUBLIKASINING MEHNAT KODEKSI. {{chapter}}. {{section}}. {{section_name}}.\"\n",
    "\n",
    "**Answer Example**:\n",
    "If the document says: \"Mehnat huquqlari himoyasi mehnat kodeksining asosiy maqsadi hisoblanadi.\"\n",
    "- Question: \"Mehnat kodeksining asosiy maqsadi nima?\"\n",
    "- Answer: \"Mehnat huquqlarining himoyasi. Havola: O‘ZBEKISTON RESPUBLIKASINING MEHNAT KODEKSI. {{chapter}}, {{section}}. {{section_name}}.\"\n",
    "\n",
    "Output Format:\n",
    "Return a valid JSON object with the following structure:\n",
    "```json\n",
    "{{\n",
    "  \"question_1\": \"Generated question text\",\n",
    "  \"answer_1\": \"Generated answer text\",\n",
    "  \"question_2\": \"Generated question text\",\n",
    "  ...\n",
    "}}\n",
    "\"\"\"\n",
    "\n",
    "label_prompt = ChatPromptTemplate.from_template(label_template)\n",
    "llm = ChatOpenAI(temperature=0.2, model=\"gpt-4o-mini\")\n",
    "\n",
    "label_chain = label_prompt | llm | JsonOutputParser()"
   ]
  },
  {
   "cell_type": "code",
   "execution_count": 15,
   "metadata": {},
   "outputs": [
    {
     "name": "stdout",
     "output_type": "stream",
     "text": [
      "Ushbu Kodeksning asosiy vazifalari quyidagilardan iborat: \n",
      "xodimlar mehnat huquqlari va erkinliklarining, shu jumladan mehnat qilishga, erkin ish \n",
      "tanlashga, adolatli va xavfsiz mehnat sharoitlariga hamda ishsizlikdan himoyalanishga bo‘lgan \n",
      "huquqining davlat kafolatlarini belgilash; \n",
      "ish beruvchilarning ka drlarni tanlash, joy -joyiga qo‘yish va samarali mehnat jarayonini \n",
      "tashkil etish sohasidagi huquqlari amalga oshirilishini ta’minlash; \n",
      "mehnat sohasida ijtimoiy sheriklikni rag‘batlantirish va rivojlantirish; \n",
      "xodimlar va ish beruvchilarning huquqlari hamda q onuniy manfaatlari himoya qilinishini \n",
      "ta’minlash; \n",
      "mehnat bozorining samarali faoliyat ko‘rsatishiga ko‘maklashish.\n"
     ]
    }
   ],
   "source": [
    "print(docs[1].page_content)"
   ]
  },
  {
   "cell_type": "code",
   "execution_count": 16,
   "metadata": {},
   "outputs": [],
   "source": [
    "doc_index = 1\n",
    "\n",
    "# Generate questions for the second document chunk\n",
    "output = label_chain.invoke({\n",
    "    \"chunk\": docs[doc_index].page_content,\n",
    "    \"chapter\": docs[doc_index].metadata[\"chapter\"],\n",
    "    \"section\": docs[doc_index].metadata[\"section\"],\n",
    "    \"section_name\": docs[doc_index].metadata[\"section_name\"]\n",
    "})"
   ]
  },
  {
   "cell_type": "code",
   "execution_count": 17,
   "metadata": {},
   "outputs": [
    {
     "data": {
      "text/plain": [
       "{'question_1': 'Ushbu Kodeksning asosiy vazifalari nimalardan iborat?',\n",
       " 'answer_1': 'Ushbu Kodeksning asosiy vazifalari xodimlar mehnat huquqlari va erkinliklarini, ish beruvchilarning huquqlarini, mehnat sohasida ijtimoiy sheriklikni rag‘batlantirish va mehnat bozorining samarali faoliyat ko‘rsatishini ta’minlashdan iborat. Havola: O‘ZBEKISTON RESPUBLIKASINING MEHNAT KODEKSI. I BO‘LIM. 2-modda. Ushbu Kodeksning asosiy vazifalari.',\n",
       " 'question_2': 'Mehnat qilish va erkin ish tanlash huquqlari qanday kafolatlanadi?',\n",
       " 'answer_2': 'Mehnat qilish va erkin ish tanlash huquqlari davlat kafolatlari orqali belgilanadi. Havola: O‘ZBEKISTON RESPUBLIKASINING MEHNAT KODEKSI. I BO‘LIM. 2-modda. Ushbu Kodeksning asosiy vazifalari.',\n",
       " 'question_3': 'Ish beruvchilarning huquqlari qanday amalga oshiriladi?',\n",
       " 'answer_3': 'Ish beruvchilarning huquqlari amalga oshirilishini ta’minlash uchun ularning kadrlarni tanlash, joy-joyiga qo‘yish va samarali mehnat jarayonini tashkil etish sohasidagi huquqlari himoya qilinadi. Havola: O‘ZBEKISTON RESPUBLIKASINING MEHNAT KODEKSI. I BO‘LIM. 2-modda. Ushbu Kodeksning asosiy vazifalari.',\n",
       " 'question_4': 'Mehnat sohasida ijtimoiy sheriklikni qanday rag‘batlantirish mumkin?',\n",
       " 'answer_4': 'Mehnat sohasida ijtimoiy sheriklikni rag‘batlantirish va rivojlantirish Kodeksning asosiy vazifalaridan biridir. Havola: O‘ZBEKISTON RESPUBLIKASINING MEHNAT KODEKSI. I BO‘LIM. 2-modda. Ushbu Kodeksning asosiy vazifalari.',\n",
       " 'question_5': 'Xodimlar va ish beruvchilarning huquqlari qanday himoya qilinadi?',\n",
       " 'answer_5': 'Xodimlar va ish beruvchilarning huquqlari hamda qonuniy manfaatlari himoya qilinishini ta’minlash Kodeksning asosiy vazifalaridan biridir. Havola: O‘ZBEKISTON RESPUBLIKASINING MEHNAT KODEKSI. I BO‘LIM. 2-modda. Ushbu Kodeksning asosiy vazifalari.',\n",
       " 'question_6': 'Ishsizlikdan himoyalanish huquqi qanday kafolatlanadi?',\n",
       " 'answer_6': 'Ishsizlikdan himoyalanish huquqi davlat kafolatlari orqali belgilanadi. Havola: O‘ZBEKISTON RESPUBLIKASINING MEHNAT KODEKSI. I BO‘LIM. 2-modda. Ushbu Kodeksning asosiy vazifalari.',\n",
       " 'question_7': 'Mehnat sharoitlari qanday bo‘lishi kerak?',\n",
       " 'answer_7': 'Mehnat sharoitlari adolatli va xavfsiz bo‘lishi kerak. Havola: O‘ZBEKISTON RESPUBLIKASINING MEHNAT KODEKSI. I BO‘LIM. 2-modda. Ushbu Kodeksning asosiy vazifalari.',\n",
       " 'question_8': 'Mehnat bozorining samarali faoliyat ko‘rsatishi uchun nimalar qilinadi?',\n",
       " 'answer_8': 'Mehnat bozorining samarali faoliyat ko‘rsatishiga ko‘maklashish Kodeksning asosiy vazifalaridan biridir. Havola: O‘ZBEKISTON RESPUBLIKASINING MEHNAT KODEKSI. I BO‘LIM. 2-modda. Ushbu Kodeksning asosiy vazifalari.',\n",
       " 'question_9': 'Xodimlar mehnat huquqlari qanday himoya qilinadi?',\n",
       " 'answer_9': 'Xodimlar mehnat huquqlari va erkinliklari davlat kafolatlari orqali himoya qilinadi. Havola: O‘ZBEKISTON RESPUBLIKASINING MEHNAT KODEKSI. I BO‘LIM. 2-modda. Ushbu Kodeksning asosiy vazifalari.',\n",
       " 'question_10': 'Ushbu Kodeksning asosiy vazifalari qaysi huquqlarni o‘z ichiga oladi?',\n",
       " 'answer_10': 'Ushbu Kodeksning asosiy vazifalari xodimlar mehnat huquqlari, ish beruvchilarning huquqlari, ijtimoiy sheriklik va mehnat bozorining samarali faoliyat ko‘rsatishini o‘z ichiga oladi. Havola: O‘ZBEKISTON RESPUBLIKASINING MEHNAT KODEKSI. I BO‘LIM. 2-modda. Ushbu Kodeksning asosiy vazifalari.'}"
      ]
     },
     "execution_count": 17,
     "metadata": {},
     "output_type": "execute_result"
    }
   ],
   "source": [
    "output"
   ]
  },
  {
   "cell_type": "markdown",
   "metadata": {},
   "source": [
    "#### Another example"
   ]
  },
  {
   "cell_type": "code",
   "execution_count": 18,
   "metadata": {},
   "outputs": [
    {
     "data": {
      "text/plain": [
       "693"
      ]
     },
     "execution_count": 18,
     "metadata": {},
     "output_type": "execute_result"
    }
   ],
   "source": [
    "len(docs)"
   ]
  },
  {
   "cell_type": "code",
   "execution_count": 19,
   "metadata": {},
   "outputs": [
    {
     "data": {
      "text/plain": [
       "Document(metadata={'chapter': 'IV BO‘LIM. YAKKA TARTIBDAGI MEHNATGA OID MUNOSABATLAR', 'section': '345-modda', 'section_name': 'Yetkazilgan zararning miqdorini aniqlash'}, page_content='Ish beruvchiga yetkazilgan zarar miqdori buxgalteriya hisobi ma’lumotlari asosidagi haqiqiy \\nyo‘qotishlar bo‘yicha belgilanadi. \\nIsh beruvchining asosiy fondlarga (vositalarga) taalluqli bo‘lgan mol -mulkiga yetkazilgan \\nzarar miqdori belgilangan normalarga ko‘ra eskirish chegirib tashlangan, m oddiy qimmatliklarning \\nbalans qiymatidan (tannarxidan) kelib chiqqan holda hisoblab chiqariladi. \\nIsh beruvchining asosiy fondlarga (vositalarga) taalluqli mol-mulki o‘g‘irlangan, kamomad \\nbo‘lgan, qasddan yo‘q qilingan yoki qasddan buzilgan taqdirda zararni ng miqdori zarar aniqlangan \\nkunda ushbu hududda amalda bo‘lgan bozor narxlari bo‘yicha hisoblab chiqariladi. Boshqa hollarda \\nzararning miqdori u yetkazilgan kuni mazkur hududda amalda bo‘lgan bozor narxlari bo‘yicha \\nhisoblab chiqariladi. \\nQonunchilikda ish beruvchiga o‘g‘rilik, mol -mulkning ayrim turlari va boshqa moddiy \\nqimmatliklar kamomadi yoki yo‘qotilganligi tufayli yetkazilgan zarar miqdorini aniqlashning alohida \\ntartibi, shu jumladan ish beruvchiga yetkazilgan zararning haqiqiy miqdori uning nominal miqdoridan \\nko‘p bo‘lgan hollarda zararni bir necha karra baravar hisoblab chiqarishning alohida tartibi \\nbelgilanishi mumkin.')"
      ]
     },
     "execution_count": 19,
     "metadata": {},
     "output_type": "execute_result"
    }
   ],
   "source": [
    "doc_index = 421\n",
    "docs[doc_index]"
   ]
  },
  {
   "cell_type": "code",
   "execution_count": 20,
   "metadata": {},
   "outputs": [],
   "source": [
    "# Generate questions for the  document chunk\n",
    "output = label_chain.invoke({\n",
    "    \"chunk\": docs[doc_index].page_content,\n",
    "    \"chapter\": docs[doc_index].metadata[\"chapter\"],\n",
    "    \"section\": docs[doc_index].metadata[\"section\"],\n",
    "    \"section_name\": docs[doc_index].metadata[\"section_name\"]\n",
    "})"
   ]
  },
  {
   "cell_type": "code",
   "execution_count": 21,
   "metadata": {},
   "outputs": [
    {
     "data": {
      "text/plain": [
       "{'question_1': 'Ish beruvchiga yetkazilgan zarar miqdori qanday belgilanadi?',\n",
       " 'answer_1': 'Ish beruvchiga yetkazilgan zarar miqdori buxgalteriya hisobi ma’lumotlari asosidagi haqiqiy yo‘qotishlar bo‘yicha belgilanadi. Havola: O‘ZBEKISTON RESPUBLIKASINING MEHNAT KODEKSI. IV BO‘LIM. 345-modda. Yetkazilgan zararning miqdorini aniqlash.',\n",
       " 'question_2': 'Asosiy fondlarga taalluqli mol-mulkga yetkazilgan zarar qanday hisoblanadi?',\n",
       " 'answer_2': 'Ish beruvchining asosiy fondlarga taalluqli mol-mulkiga yetkazilgan zarar miqdori belgilangan normalarga ko‘ra eskirish chegirib tashlangan, oddiy qimmatliklarning balans qiymatidan kelib chiqqan holda hisoblab chiqariladi. Havola: O‘ZBEKISTON RESPUBLIKASINING MEHNAT KODEKSI. IV BO‘LIM. 345-modda. Yetkazilgan zararning miqdorini aniqlash.',\n",
       " 'question_3': 'O‘g‘irlangan yoki qasddan yo‘q qilingan mol-mulk uchun zarar miqdori qanday aniqlanadi?',\n",
       " 'answer_3': 'Ish beruvchining asosiy fondlarga taalluqli mol-mulki o‘g‘irlangan, kamomad bo‘lgan, qasddan yo‘q qilingan yoki qasddan buzilgan taqdirda zararning miqdori zarar aniqlangan kunda ushbu hududda amalda bo‘lgan bozor narxlari bo‘yicha hisoblab chiqariladi. Havola: O‘ZBEKISTON RESPUBLIKASINING MEHNAT KODEKSI. IV BO‘LIM. 345-modda. Yetkazilgan zararning miqdorini aniqlash.',\n",
       " 'question_4': 'Zararning miqdori qanday hollarda bozor narxlari bo‘yicha hisoblanadi?',\n",
       " 'answer_4': 'Boshqa hollarda zararning miqdori u yetkazilgan kuni mazkur hududda amalda bo‘lgan bozor narxlari bo‘yicha hisoblab chiqariladi. Havola: O‘ZBEKISTON RESPUBLIKASINING MEHNAT KODEKSI. IV BO‘LIM. 345-modda. Yetkazilgan zararning miqdorini aniqlash.',\n",
       " 'question_5': 'Qonunchilikda ish beruvchiga yetkazilgan zarar miqdorini aniqlash tartibi qanday?',\n",
       " 'answer_5': 'Qonunchilikda ish beruvchiga o‘g‘rilik, mol-mulkning ayrim turlari va boshqa moddiy qimmatliklar kamomadi yoki yo‘qotilganligi tufayli yetkazilgan zarar miqdorini aniqlashning alohida tartibi belgilanishi mumkin. Havola: O‘ZBEKISTON RESPUBLIKASINING MEHNAT KODEKSI. IV BO‘LIM. 345-modda. Yetkazilgan zararning miqdorini aniqlash.',\n",
       " 'question_6': 'Ish beruvchiga yetkazilgan zarar miqdori nominal miqdordan ko‘p bo‘lganda qanday hisoblanadi?',\n",
       " 'answer_6': 'Ish beruvchiga yetkazilgan zararning haqiqiy miqdori uning nominal miqdoridan ko‘p bo‘lgan hollarda zararni bir necha karra baravar hisoblab chiqarishning alohida tartibi belgilanishi mumkin. Havola: O‘ZBEKISTON RESPUBLIKASINING MEHNAT KODEKSI. IV BO‘LIM. 345-modda. Yetkazilgan zararning miqdorini aniqlash.',\n",
       " 'question_7': 'Zararning miqdorini aniqlashda qanday normalar hisobga olinadi?',\n",
       " 'answer_7': 'Zararning miqdori belgilangan normalarga ko‘ra hisobga olinadi. Havola: O‘ZBEKISTON RESPUBLIKASINING MEHNAT KODEKSI. IV BO‘LIM. 345-modda. Yetkazilgan zararning miqdorini aniqlash.',\n",
       " 'question_8': 'Asosiy fondlarga taalluqli mol-mulkning balans qiymati qanday hisobga olinadi?',\n",
       " 'answer_8': 'Asosiy fondlarga taalluqli mol-mulkning zarar miqdori oddiy qimmatliklarning balans qiymatidan kelib chiqqan holda hisoblab chiqariladi. Havola: O‘ZBEKISTON RESPUBLIKASINING MEHNAT KODEKSI. IV BO‘LIM. 345-modda. Yetkazilgan zararning miqdorini aniqlash.',\n",
       " 'question_9': 'Zararning aniqlanishi va hisoblanishi qachon amalga oshiriladi?',\n",
       " 'answer_9': 'Zararning aniqlanishi va hisoblanishi zarar aniqlangan kunda amalga oshiriladi. Havola: O‘ZBEKISTON RESPUBLIKASINING MEHNAT KODEKSI. IV BO‘LIM. 345-modda. Yetkazilgan zararning miqdorini aniqlash.',\n",
       " 'question_10': 'Zararning miqdorini aniqlashda qaysi hujjatlar asosida ish olib boriladi?',\n",
       " 'answer_10': 'Zararning miqdorini aniqlashda buxgalteriya hisobi ma’lumotlari asosida ish olib boriladi. Havola: O‘ZBEKISTON RESPUBLIKASINING MEHNAT KODEKSI. IV BO‘LIM. 345-modda. Yetkazilgan zararning miqdorini aniqlash.'}"
      ]
     },
     "execution_count": 21,
     "metadata": {},
     "output_type": "execute_result"
    }
   ],
   "source": [
    "output"
   ]
  },
  {
   "cell_type": "markdown",
   "metadata": {},
   "source": [
    "### Generate for all"
   ]
  },
  {
   "cell_type": "code",
   "execution_count": 22,
   "metadata": {},
   "outputs": [],
   "source": [
    "# in cycle generate and save to json\n",
    "dataset = {}\n",
    "\n",
    "for i, doc in enumerate(docs):\n",
    "    output = label_chain.invoke({\n",
    "        \"chunk\": doc.page_content,\n",
    "        \"chapter\": doc.metadata[\"chapter\"],\n",
    "        \"section\": doc.metadata[\"section\"],\n",
    "        \"section_name\": doc.metadata[\"section_name\"]\n",
    "    })\n",
    "    row = {\"chunk\": doc.page_content, \"chapter\": doc.metadata[\"chapter\"], \"section\": doc.metadata[\"section\"], \"section_name\": doc.metadata[\"section_name\"], \"questions\": output}\n",
    "    dataset[f\"doc_{i}\"] = row"
   ]
  },
  {
   "cell_type": "markdown",
   "metadata": {},
   "source": [
    "### Save to dataframe"
   ]
  },
  {
   "cell_type": "code",
   "execution_count": 26,
   "metadata": {},
   "outputs": [],
   "source": [
    "import json\n",
    "import pandas as pd\n",
    "\n",
    "\n",
    "# Create a list to hold rows of the dataset\n",
    "dataset_rows = []\n",
    "\n",
    "# Iterate over each document and its data\n",
    "for doc_id, doc_data in dataset.items():\n",
    "    chunk = doc_data[\"chunk\"]\n",
    "    chapter = doc_data[\"chapter\"]\n",
    "    section = doc_data[\"section\"]\n",
    "    section_name = doc_data[\"section_name\"]\n",
    "    questions = doc_data[\"questions\"]\n",
    "    \n",
    "    # Iterate over question-answer pairs\n",
    "    for i in range(1, len(questions) // 2 + 1):\n",
    "        question = questions[f\"question_{i}\"]\n",
    "        answer = questions[f\"answer_{i}\"]\n",
    "        dataset_rows.append({\n",
    "            \"chunk\": chunk,\n",
    "            \"chapter\": chapter,\n",
    "            \"section\": section,\n",
    "            \"section_name\": section_name,\n",
    "            \"question\": question,\n",
    "            \"answer\": answer\n",
    "        })\n",
    "\n",
    "# Convert the dataset into a DataFrame\n",
    "df = pd.DataFrame(dataset_rows)"
   ]
  },
  {
   "cell_type": "code",
   "execution_count": 27,
   "metadata": {},
   "outputs": [
    {
     "data": {
      "text/html": [
       "<div>\n",
       "<style scoped>\n",
       "    .dataframe tbody tr th:only-of-type {\n",
       "        vertical-align: middle;\n",
       "    }\n",
       "\n",
       "    .dataframe tbody tr th {\n",
       "        vertical-align: top;\n",
       "    }\n",
       "\n",
       "    .dataframe thead th {\n",
       "        text-align: right;\n",
       "    }\n",
       "</style>\n",
       "<table border=\"1\" class=\"dataframe\">\n",
       "  <thead>\n",
       "    <tr style=\"text-align: right;\">\n",
       "      <th></th>\n",
       "      <th>chunk</th>\n",
       "      <th>chapter</th>\n",
       "      <th>section</th>\n",
       "      <th>section_name</th>\n",
       "      <th>question</th>\n",
       "      <th>answer</th>\n",
       "    </tr>\n",
       "  </thead>\n",
       "  <tbody>\n",
       "    <tr>\n",
       "      <th>0</th>\n",
       "      <td>Ushbu Kodeks xodimlar, ish beruvchilar va davl...</td>\n",
       "      <td>I BO‘LIM. UMUMIY QOIDALAR</td>\n",
       "      <td>1-modda</td>\n",
       "      <td>Ushbu Kodeks bilan tartibga solinadigan munosa...</td>\n",
       "      <td>Ushbu Kodeks qaysi munosabatlarni tartibga sol...</td>\n",
       "      <td>Ushbu Kodeks yakka tartibdagi mehnatga oid mun...</td>\n",
       "    </tr>\n",
       "    <tr>\n",
       "      <th>1</th>\n",
       "      <td>Ushbu Kodeks xodimlar, ish beruvchilar va davl...</td>\n",
       "      <td>I BO‘LIM. UMUMIY QOIDALAR</td>\n",
       "      <td>1-modda</td>\n",
       "      <td>Ushbu Kodeks bilan tartibga solinadigan munosa...</td>\n",
       "      <td>Ushbu Kodeks kimlar o'rtasidagi munosabatlarni...</td>\n",
       "      <td>Ushbu Kodeks xodimlar, ish beruvchilar va davl...</td>\n",
       "    </tr>\n",
       "    <tr>\n",
       "      <th>2</th>\n",
       "      <td>Ushbu Kodeks xodimlar, ish beruvchilar va davl...</td>\n",
       "      <td>I BO‘LIM. UMUMIY QOIDALAR</td>\n",
       "      <td>1-modda</td>\n",
       "      <td>Ushbu Kodeks bilan tartibga solinadigan munosa...</td>\n",
       "      <td>Ish beruvchilar va xodimlar o'rtasidagi munosa...</td>\n",
       "      <td>Ushbu Kodeks ish beruvchilar va xodimlar o'rta...</td>\n",
       "    </tr>\n",
       "    <tr>\n",
       "      <th>3</th>\n",
       "      <td>Ushbu Kodeks xodimlar, ish beruvchilar va davl...</td>\n",
       "      <td>I BO‘LIM. UMUMIY QOIDALAR</td>\n",
       "      <td>1-modda</td>\n",
       "      <td>Ushbu Kodeks bilan tartibga solinadigan munosa...</td>\n",
       "      <td>Ushbu Kodeksda ijtimoiy munosabatlar qanday ko...</td>\n",
       "      <td>Ushbu Kodeks ijtimoiy munosabatlarni yakka tar...</td>\n",
       "    </tr>\n",
       "    <tr>\n",
       "      <th>4</th>\n",
       "      <td>Ushbu Kodeks xodimlar, ish beruvchilar va davl...</td>\n",
       "      <td>I BO‘LIM. UMUMIY QOIDALAR</td>\n",
       "      <td>1-modda</td>\n",
       "      <td>Ushbu Kodeks bilan tartibga solinadigan munosa...</td>\n",
       "      <td>Ushbu Kodeksda xodimlar va ish beruvchilar o'r...</td>\n",
       "      <td>Ushbu Kodeks xodimlar, ish beruvchilar va davl...</td>\n",
       "    </tr>\n",
       "  </tbody>\n",
       "</table>\n",
       "</div>"
      ],
      "text/plain": [
       "                                               chunk  \\\n",
       "0  Ushbu Kodeks xodimlar, ish beruvchilar va davl...   \n",
       "1  Ushbu Kodeks xodimlar, ish beruvchilar va davl...   \n",
       "2  Ushbu Kodeks xodimlar, ish beruvchilar va davl...   \n",
       "3  Ushbu Kodeks xodimlar, ish beruvchilar va davl...   \n",
       "4  Ushbu Kodeks xodimlar, ish beruvchilar va davl...   \n",
       "\n",
       "                     chapter  section  \\\n",
       "0  I BO‘LIM. UMUMIY QOIDALAR  1-modda   \n",
       "1  I BO‘LIM. UMUMIY QOIDALAR  1-modda   \n",
       "2  I BO‘LIM. UMUMIY QOIDALAR  1-modda   \n",
       "3  I BO‘LIM. UMUMIY QOIDALAR  1-modda   \n",
       "4  I BO‘LIM. UMUMIY QOIDALAR  1-modda   \n",
       "\n",
       "                                        section_name  \\\n",
       "0  Ushbu Kodeks bilan tartibga solinadigan munosa...   \n",
       "1  Ushbu Kodeks bilan tartibga solinadigan munosa...   \n",
       "2  Ushbu Kodeks bilan tartibga solinadigan munosa...   \n",
       "3  Ushbu Kodeks bilan tartibga solinadigan munosa...   \n",
       "4  Ushbu Kodeks bilan tartibga solinadigan munosa...   \n",
       "\n",
       "                                            question  \\\n",
       "0  Ushbu Kodeks qaysi munosabatlarni tartibga sol...   \n",
       "1  Ushbu Kodeks kimlar o'rtasidagi munosabatlarni...   \n",
       "2  Ish beruvchilar va xodimlar o'rtasidagi munosa...   \n",
       "3  Ushbu Kodeksda ijtimoiy munosabatlar qanday ko...   \n",
       "4  Ushbu Kodeksda xodimlar va ish beruvchilar o'r...   \n",
       "\n",
       "                                              answer  \n",
       "0  Ushbu Kodeks yakka tartibdagi mehnatga oid mun...  \n",
       "1  Ushbu Kodeks xodimlar, ish beruvchilar va davl...  \n",
       "2  Ushbu Kodeks ish beruvchilar va xodimlar o'rta...  \n",
       "3  Ushbu Kodeks ijtimoiy munosabatlarni yakka tar...  \n",
       "4  Ushbu Kodeks xodimlar, ish beruvchilar va davl...  "
      ]
     },
     "execution_count": 27,
     "metadata": {},
     "output_type": "execute_result"
    }
   ],
   "source": [
    "df.head()"
   ]
  },
  {
   "cell_type": "markdown",
   "metadata": {},
   "source": [
    "### Import data from script"
   ]
  },
  {
   "cell_type": "code",
   "execution_count": 60,
   "metadata": {},
   "outputs": [],
   "source": [
    "df = pd.read_pickle(\"data/labor_codex_rag_dataset.pkl\")"
   ]
  },
  {
   "cell_type": "code",
   "execution_count": 61,
   "metadata": {},
   "outputs": [
    {
     "data": {
      "text/html": [
       "<div>\n",
       "<style scoped>\n",
       "    .dataframe tbody tr th:only-of-type {\n",
       "        vertical-align: middle;\n",
       "    }\n",
       "\n",
       "    .dataframe tbody tr th {\n",
       "        vertical-align: top;\n",
       "    }\n",
       "\n",
       "    .dataframe thead th {\n",
       "        text-align: right;\n",
       "    }\n",
       "</style>\n",
       "<table border=\"1\" class=\"dataframe\">\n",
       "  <thead>\n",
       "    <tr style=\"text-align: right;\">\n",
       "      <th></th>\n",
       "      <th>chunk</th>\n",
       "      <th>chapter</th>\n",
       "      <th>section</th>\n",
       "      <th>section_name</th>\n",
       "      <th>question</th>\n",
       "      <th>answer</th>\n",
       "    </tr>\n",
       "  </thead>\n",
       "  <tbody>\n",
       "    <tr>\n",
       "      <th>0</th>\n",
       "      <td>Ushbu Kodeks xodimlar, ish beruvchilar va davl...</td>\n",
       "      <td>I BO‘LIM. UMUMIY QOIDALAR</td>\n",
       "      <td>1-modda</td>\n",
       "      <td>Ushbu Kodeks bilan tartibga solinadigan munosa...</td>\n",
       "      <td>Ushbu Kodeksda xodimlar va ish beruvchilar o'r...</td>\n",
       "      <td>Ushbu Kodeks xodimlar, ish beruvchilar va davl...</td>\n",
       "    </tr>\n",
       "    <tr>\n",
       "      <th>1</th>\n",
       "      <td>Ushbu Kodeks xodimlar, ish beruvchilar va davl...</td>\n",
       "      <td>I BO‘LIM. UMUMIY QOIDALAR</td>\n",
       "      <td>1-modda</td>\n",
       "      <td>Ushbu Kodeks bilan tartibga solinadigan munosa...</td>\n",
       "      <td>Ushbu Kodeksda qanday ijtimoiy munosabatlar ta...</td>\n",
       "      <td>Ushbu Kodeks yakka tartibdagi mehnatga oid mun...</td>\n",
       "    </tr>\n",
       "    <tr>\n",
       "      <th>2</th>\n",
       "      <td>Ushbu Kodeks xodimlar, ish beruvchilar va davl...</td>\n",
       "      <td>I BO‘LIM. UMUMIY QOIDALAR</td>\n",
       "      <td>1-modda</td>\n",
       "      <td>Ushbu Kodeks bilan tartibga solinadigan munosa...</td>\n",
       "      <td>Ushbu Kodeksda davlat manfaatlari qanday muvoz...</td>\n",
       "      <td>Ushbu Kodeks xodimlar, ish beruvchilar va davl...</td>\n",
       "    </tr>\n",
       "    <tr>\n",
       "      <th>3</th>\n",
       "      <td>Ushbu Kodeks xodimlar, ish beruvchilar va davl...</td>\n",
       "      <td>I BO‘LIM. UMUMIY QOIDALAR</td>\n",
       "      <td>1-modda</td>\n",
       "      <td>Ushbu Kodeks bilan tartibga solinadigan munosa...</td>\n",
       "      <td>Ushbu Kodeksda mehnat munosabatlari qanday muv...</td>\n",
       "      <td>Ushbu Kodeks xodimlar, ish beruvchilar va davl...</td>\n",
       "    </tr>\n",
       "    <tr>\n",
       "      <th>4</th>\n",
       "      <td>Ushbu Kodeks xodimlar, ish beruvchilar va davl...</td>\n",
       "      <td>I BO‘LIM. UMUMIY QOIDALAR</td>\n",
       "      <td>1-modda</td>\n",
       "      <td>Ushbu Kodeks bilan tartibga solinadigan munosa...</td>\n",
       "      <td>Ushbu Kodeksda xodimlar va ish beruvchilar o'r...</td>\n",
       "      <td>Ushbu Kodeks xodimlar va ish beruvchilar o'rta...</td>\n",
       "    </tr>\n",
       "  </tbody>\n",
       "</table>\n",
       "</div>"
      ],
      "text/plain": [
       "                                               chunk  \\\n",
       "0  Ushbu Kodeks xodimlar, ish beruvchilar va davl...   \n",
       "1  Ushbu Kodeks xodimlar, ish beruvchilar va davl...   \n",
       "2  Ushbu Kodeks xodimlar, ish beruvchilar va davl...   \n",
       "3  Ushbu Kodeks xodimlar, ish beruvchilar va davl...   \n",
       "4  Ushbu Kodeks xodimlar, ish beruvchilar va davl...   \n",
       "\n",
       "                     chapter  section  \\\n",
       "0  I BO‘LIM. UMUMIY QOIDALAR  1-modda   \n",
       "1  I BO‘LIM. UMUMIY QOIDALAR  1-modda   \n",
       "2  I BO‘LIM. UMUMIY QOIDALAR  1-modda   \n",
       "3  I BO‘LIM. UMUMIY QOIDALAR  1-modda   \n",
       "4  I BO‘LIM. UMUMIY QOIDALAR  1-modda   \n",
       "\n",
       "                                        section_name  \\\n",
       "0  Ushbu Kodeks bilan tartibga solinadigan munosa...   \n",
       "1  Ushbu Kodeks bilan tartibga solinadigan munosa...   \n",
       "2  Ushbu Kodeks bilan tartibga solinadigan munosa...   \n",
       "3  Ushbu Kodeks bilan tartibga solinadigan munosa...   \n",
       "4  Ushbu Kodeks bilan tartibga solinadigan munosa...   \n",
       "\n",
       "                                            question  \\\n",
       "0  Ushbu Kodeksda xodimlar va ish beruvchilar o'r...   \n",
       "1  Ushbu Kodeksda qanday ijtimoiy munosabatlar ta...   \n",
       "2  Ushbu Kodeksda davlat manfaatlari qanday muvoz...   \n",
       "3  Ushbu Kodeksda mehnat munosabatlari qanday muv...   \n",
       "4  Ushbu Kodeksda xodimlar va ish beruvchilar o'r...   \n",
       "\n",
       "                                              answer  \n",
       "0  Ushbu Kodeks xodimlar, ish beruvchilar va davl...  \n",
       "1  Ushbu Kodeks yakka tartibdagi mehnatga oid mun...  \n",
       "2  Ushbu Kodeks xodimlar, ish beruvchilar va davl...  \n",
       "3  Ushbu Kodeks xodimlar, ish beruvchilar va davl...  \n",
       "4  Ushbu Kodeks xodimlar va ish beruvchilar o'rta...  "
      ]
     },
     "execution_count": 61,
     "metadata": {},
     "output_type": "execute_result"
    }
   ],
   "source": [
    "df.head()"
   ]
  },
  {
   "cell_type": "code",
   "execution_count": 62,
   "metadata": {},
   "outputs": [
    {
     "data": {
      "text/plain": [
       "(6890, 6)"
      ]
     },
     "execution_count": 62,
     "metadata": {},
     "output_type": "execute_result"
    }
   ],
   "source": [
    "df.shape"
   ]
  },
  {
   "cell_type": "code",
   "execution_count": 63,
   "metadata": {},
   "outputs": [
    {
     "data": {
      "text/plain": [
       "(310, 7)"
      ]
     },
     "execution_count": 63,
     "metadata": {},
     "output_type": "execute_result"
    }
   ],
   "source": [
    "# find rows with len of section_name > 300\n",
    "df[\"section_name_len\"] = df[\"section_name\"].apply(len)\n",
    "\n",
    "df[df[\"section_name_len\"] > 300].shape"
   ]
  },
  {
   "cell_type": "code",
   "execution_count": 64,
   "metadata": {},
   "outputs": [],
   "source": [
    "# drop rows with len of section_name > 300\n",
    "df = df[df[\"section_name_len\"] <= 300]"
   ]
  },
  {
   "cell_type": "code",
   "execution_count": 65,
   "metadata": {},
   "outputs": [
    {
     "data": {
      "text/plain": [
       "528"
      ]
     },
     "execution_count": 65,
     "metadata": {},
     "output_type": "execute_result"
    }
   ],
   "source": [
    "df['section_name'].nunique()"
   ]
  },
  {
   "cell_type": "markdown",
   "metadata": {},
   "source": [
    "## Upload to huggingface"
   ]
  },
  {
   "cell_type": "code",
   "execution_count": 75,
   "metadata": {},
   "outputs": [],
   "source": [
    "df.drop(columns=[\"section_name_len\"], inplace=True)"
   ]
  },
  {
   "cell_type": "code",
   "execution_count": 76,
   "metadata": {},
   "outputs": [],
   "source": [
    "# divide to train and test\n",
    "from sklearn.model_selection import train_test_split\n",
    "\n",
    "train_df, test_df = train_test_split(df, test_size=0.2, random_state=42)"
   ]
  },
  {
   "cell_type": "code",
   "execution_count": 77,
   "metadata": {},
   "outputs": [
    {
     "data": {
      "text/html": [
       "<div>\n",
       "<style scoped>\n",
       "    .dataframe tbody tr th:only-of-type {\n",
       "        vertical-align: middle;\n",
       "    }\n",
       "\n",
       "    .dataframe tbody tr th {\n",
       "        vertical-align: top;\n",
       "    }\n",
       "\n",
       "    .dataframe thead th {\n",
       "        text-align: right;\n",
       "    }\n",
       "</style>\n",
       "<table border=\"1\" class=\"dataframe\">\n",
       "  <thead>\n",
       "    <tr style=\"text-align: right;\">\n",
       "      <th></th>\n",
       "      <th>chunk</th>\n",
       "      <th>chapter</th>\n",
       "      <th>section</th>\n",
       "      <th>section_name</th>\n",
       "      <th>question</th>\n",
       "      <th>answer</th>\n",
       "    </tr>\n",
       "  </thead>\n",
       "  <tbody>\n",
       "    <tr>\n",
       "      <th>5257</th>\n",
       "      <td>Kasanachi tomonidan ishlarni bajarish ish beru...</td>\n",
       "      <td>VI BO‘LIM. AYRIM TOIFADAGI XODIMLAR MEHNATINI ...</td>\n",
       "      <td>447-modda</td>\n",
       "      <td>Mehnat shartnomasida shart qilib ko‘rsatilgan ...</td>\n",
       "      <td>Kasanachi oila a’zolari tomonidan bajariladiga...</td>\n",
       "      <td>Kasanachi oila a’zolari tomonidan bajariladiga...</td>\n",
       "    </tr>\n",
       "    <tr>\n",
       "      <th>3350</th>\n",
       "      <td>Mehnat normalarining joriy etilishi, almashtir...</td>\n",
       "      <td>IV BO‘LIM. YAKKA TARTIBDAGI MEHNATGA OID MUNOS...</td>\n",
       "      <td>274-modda</td>\n",
       "      <td>Mehnat normalarini ishlab chiqish, joriy etish...</td>\n",
       "      <td>Mehnat normalarining amal qilish muddati tugag...</td>\n",
       "      <td>Mazkur muddat tugaganidan keyin vaqtinchalik n...</td>\n",
       "    </tr>\n",
       "    <tr>\n",
       "      <th>1939</th>\n",
       "      <td>qonunda nazarda tutilgan hollarda boshqa xodim...</td>\n",
       "      <td>IV BO‘LIM. YAKKA TARTIBDAGI MEHNATGA OID MUNOS...</td>\n",
       "      <td>160-modda</td>\n",
       "      <td>Mehnat shartnomasini xodimning tashabbusiga ko...</td>\n",
       "      <td>Ish beruvchi ogohlantirish muddati tugagandan ...</td>\n",
       "      <td>Ish beruvchi xodimga mehnat shartnomasini beko...</td>\n",
       "    </tr>\n",
       "    <tr>\n",
       "      <th>4456</th>\n",
       "      <td>Mehnat sharoiti noqulay ishlarda band bo‘lgan ...</td>\n",
       "      <td>IV BO‘LIM. YAKKA TARTIBDAGI MEHNATGA OID MUNOS...</td>\n",
       "      <td>363-modda</td>\n",
       "      <td>Xodimlarni sut, davolash -profilaktika oziq-ov...</td>\n",
       "      <td>Ish beruvchi tomonidan taqdim etiladigan oziq-...</td>\n",
       "      <td>Oziq-ovqat mahsulotlari jamoa kelishuvlarida, ...</td>\n",
       "    </tr>\n",
       "    <tr>\n",
       "      <th>5697</th>\n",
       "      <td>Noqulay tabiiy -iqlim sharoitlaridagi ish uchu...</td>\n",
       "      <td>VI BO‘LIM. AYRIM TOIFADAGI XODIMLAR MEHNATINI ...</td>\n",
       "      <td>483-modda</td>\n",
       "      <td>Noqulay tabiiy-iqlim sharoitlaridagi ish uchun...</td>\n",
       "      <td>Noqulay tabiiy-iqlim sharoitlarida ishlovchila...</td>\n",
       "      <td>Ushbu ta’til jamoa kelishuvlarida, jamoa shart...</td>\n",
       "    </tr>\n",
       "  </tbody>\n",
       "</table>\n",
       "</div>"
      ],
      "text/plain": [
       "                                                  chunk  \\\n",
       "5257  Kasanachi tomonidan ishlarni bajarish ish beru...   \n",
       "3350  Mehnat normalarining joriy etilishi, almashtir...   \n",
       "1939  qonunda nazarda tutilgan hollarda boshqa xodim...   \n",
       "4456  Mehnat sharoiti noqulay ishlarda band bo‘lgan ...   \n",
       "5697  Noqulay tabiiy -iqlim sharoitlaridagi ish uchu...   \n",
       "\n",
       "                                                chapter    section  \\\n",
       "5257  VI BO‘LIM. AYRIM TOIFADAGI XODIMLAR MEHNATINI ...  447-modda   \n",
       "3350  IV BO‘LIM. YAKKA TARTIBDAGI MEHNATGA OID MUNOS...  274-modda   \n",
       "1939  IV BO‘LIM. YAKKA TARTIBDAGI MEHNATGA OID MUNOS...  160-modda   \n",
       "4456  IV BO‘LIM. YAKKA TARTIBDAGI MEHNATGA OID MUNOS...  363-modda   \n",
       "5697  VI BO‘LIM. AYRIM TOIFADAGI XODIMLAR MEHNATINI ...  483-modda   \n",
       "\n",
       "                                           section_name  \\\n",
       "5257  Mehnat shartnomasida shart qilib ko‘rsatilgan ...   \n",
       "3350  Mehnat normalarini ishlab chiqish, joriy etish...   \n",
       "1939  Mehnat shartnomasini xodimning tashabbusiga ko...   \n",
       "4456  Xodimlarni sut, davolash -profilaktika oziq-ov...   \n",
       "5697  Noqulay tabiiy-iqlim sharoitlaridagi ish uchun...   \n",
       "\n",
       "                                               question  \\\n",
       "5257  Kasanachi oila a’zolari tomonidan bajariladiga...   \n",
       "3350  Mehnat normalarining amal qilish muddati tugag...   \n",
       "1939  Ish beruvchi ogohlantirish muddati tugagandan ...   \n",
       "4456  Ish beruvchi tomonidan taqdim etiladigan oziq-...   \n",
       "5697  Noqulay tabiiy-iqlim sharoitlarida ishlovchila...   \n",
       "\n",
       "                                                 answer  \n",
       "5257  Kasanachi oila a’zolari tomonidan bajariladiga...  \n",
       "3350  Mazkur muddat tugaganidan keyin vaqtinchalik n...  \n",
       "1939  Ish beruvchi xodimga mehnat shartnomasini beko...  \n",
       "4456  Oziq-ovqat mahsulotlari jamoa kelishuvlarida, ...  \n",
       "5697  Ushbu ta’til jamoa kelishuvlarida, jamoa shart...  "
      ]
     },
     "execution_count": 77,
     "metadata": {},
     "output_type": "execute_result"
    }
   ],
   "source": [
    "train_df.head()"
   ]
  },
  {
   "cell_type": "code",
   "execution_count": 78,
   "metadata": {},
   "outputs": [],
   "source": [
    "from datasets import Dataset\n",
    "rag_ds = Dataset.from_pandas(df)"
   ]
  },
  {
   "cell_type": "code",
   "execution_count": 82,
   "metadata": {},
   "outputs": [
    {
     "name": "stderr",
     "output_type": "stream",
     "text": [
      "Saving the dataset (1/1 shards): 100%|██████████| 5264/5264 [00:00<00:00, 835843.89 examples/s]\n",
      "Saving the dataset (1/1 shards): 100%|██████████| 1316/1316 [00:00<00:00, 112663.12 examples/s]\n"
     ]
    }
   ],
   "source": [
    "from sklearn.model_selection import train_test_split\n",
    "from datasets import Dataset, DatasetDict\n",
    "\n",
    "# Split the data\n",
    "train_df, test_df = train_test_split(df, test_size=0.2, random_state=42)\n",
    "\n",
    "# Convert DataFrames to Hugging Face Dataset objects\n",
    "train_dataset = Dataset.from_pandas(train_df, preserve_index=False)\n",
    "test_dataset = Dataset.from_pandas(test_df, preserve_index=False)\n",
    "\n",
    "# Combine into a DatasetDict\n",
    "dataset_dict = DatasetDict({\"train\": train_dataset, \"test\": test_dataset})\n",
    "\n",
    "# Save locally\n",
    "dataset_dict.save_to_disk(\"data/rag_dataset_hf\")"
   ]
  },
  {
   "cell_type": "code",
   "execution_count": 84,
   "metadata": {},
   "outputs": [
    {
     "name": "stderr",
     "output_type": "stream",
     "text": [
      "Creating parquet from Arrow format: 100%|██████████| 6/6 [00:00<00:00, 161.98ba/s]\n",
      "Uploading the dataset shards: 100%|██████████| 1/1 [00:02<00:00,  2.15s/it]\n",
      "Creating parquet from Arrow format: 100%|██████████| 2/2 [00:00<00:00, 398.36ba/s]\n",
      "Uploading the dataset shards: 100%|██████████| 1/1 [00:01<00:00,  1.47s/it]\n"
     ]
    },
    {
     "name": "stdout",
     "output_type": "stream",
     "text": [
      "Dataset pushed to the Hugging Face Hub under fitlemon/rag-labor-codex-dataset\n"
     ]
    }
   ],
   "source": [
    "# Push to Hugging Face Hub\n",
    "from huggingface_hub import login\n",
    "\n",
    "\n",
    "# Log in to Hugging Face account\n",
    "login(token=os.getenv('HF_KEY'))  # Replace with your HF token or use an environment variable\n",
    "\n",
    "# Specify repository name\n",
    "repo_name = \"fitlemon/rag-labor-codex-dataset\"  \n",
    "\n",
    "# Push to the Hugging Face Hub\n",
    "dataset_dict.push_to_hub(repo_name)\n",
    "\n",
    "print(f\"Dataset pushed to the Hugging Face Hub under {repo_name}\")"
   ]
  }
 ],
 "metadata": {
  "kernelspec": {
   "display_name": ".venv",
   "language": "python",
   "name": "python3"
  },
  "language_info": {
   "codemirror_mode": {
    "name": "ipython",
    "version": 3
   },
   "file_extension": ".py",
   "mimetype": "text/x-python",
   "name": "python",
   "nbconvert_exporter": "python",
   "pygments_lexer": "ipython3",
   "version": "3.11.2"
  }
 },
 "nbformat": 4,
 "nbformat_minor": 2
}
