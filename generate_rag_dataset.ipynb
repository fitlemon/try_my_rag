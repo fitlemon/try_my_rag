{
 "cells": [
  {
   "cell_type": "markdown",
   "metadata": {},
   "source": [
    "### Load the document"
   ]
  },
  {
   "cell_type": "code",
   "execution_count": 130,
   "metadata": {},
   "outputs": [],
   "source": [
    "from langchain_community.document_loaders import PyPDFLoader\n",
    "\n",
    "loader = PyPDFLoader(\"data/labor_codex.pdf\")\n",
    "\n",
    "# Load a PDF file\n",
    "docs = loader.load()"
   ]
  },
  {
   "cell_type": "markdown",
   "metadata": {},
   "source": [
    "### Split to chunks"
   ]
  },
  {
   "cell_type": "code",
   "execution_count": 45,
   "metadata": {},
   "outputs": [],
   "source": [
    "text = \"\"\n",
    "\n",
    "for i in range(len(docs)):\n",
    "    text += docs[i].page_content"
   ]
  },
  {
   "cell_type": "markdown",
   "metadata": {},
   "source": [
    "#### Custom Splitter"
   ]
  },
  {
   "cell_type": "code",
   "execution_count": 212,
   "metadata": {},
   "outputs": [],
   "source": [
    "from langchain.schema import Document\n",
    "from langchain.text_splitter import TextSplitter, RecursiveCharacterTextSplitter\n",
    "import re\n",
    "from typing import List\n",
    "\n",
    "class RegexTextSplitter(TextSplitter):\n",
    "    def __init__(self, chapter_pattern: str, section_pattern: str, chunk_size: int, chunk_overlap: int):\n",
    "        \"\"\"\n",
    "        :param chapter_pattern: Regex pattern for chapters (e.g., r\"(\\\\d+-bob)\")\n",
    "        :param section_pattern: Regex pattern for articles (modda), (e.g., r\"(\\\\d+-modda)\")\n",
    "        :param chunk_size: Max tokens per chunk\n",
    "        :param chunk_overlap: Overlap tokens between consecutive chunks\n",
    "        \"\"\"\n",
    "        self.chapter_pattern = chapter_pattern\n",
    "        self.section_pattern = section_pattern\n",
    "        self.chunk_size = chunk_size\n",
    "        self.chunk_overlap = chunk_overlap\n",
    "\n",
    "        # Splitting text into chunks using GPT-4 tokenizer (can be replaced with another model)\n",
    "        self.recursive_splitter = RecursiveCharacterTextSplitter.from_tiktoken_encoder(\n",
    "            model_name=\"gpt-4\",\n",
    "            chunk_size=self.chunk_size,\n",
    "            chunk_overlap=self.chunk_overlap,\n",
    "        )\n",
    "\n",
    "    def split_by_chapter(self, text: str) -> List[dict]:\n",
    "        \"\"\"\n",
    "        Splits the entire text by chapters according to chapter_pattern.\n",
    "        Returns a list of dicts like:\n",
    "        [\n",
    "        {\"chapter_title\": \"II BO‘LIM. MEHNAT SOHASIDAGI IJTIMOIY SHERIKLIK\", \"content\": \"Text of that chapter\"},\n",
    "        ...\n",
    "        ]\n",
    "        \"\"\"\n",
    "        chapters = []\n",
    "        pattern = (\n",
    "            rf\"({self.chapter_pattern})\\s*\"        # group(1): chapter number/title, e.g., \"II BO‘LIM.\"\n",
    "            rf\"([\\s\\S]*?)(?=\\n[0-9])\"             # group(2): chapter name lazily until \\n followed by digit\n",
    "            rf\"\\n([\\s\\S]*?)(?={self.chapter_pattern}|$)\"  # group(3): chapter content until next chapter or EOF\n",
    "        )\n",
    "\n",
    "        chapter_matches = re.findall(pattern, text, flags=re.DOTALL)\n",
    "        for match in chapter_matches:\n",
    "            chapter_title = f\"{match[0].strip()} {match[1].strip()}\"  # Combine number and title\n",
    "            chapter_content = match[2].strip()  # Extract content\n",
    "            chapters.append({\n",
    "                \"chapter_title\": chapter_title,\n",
    "                \"content\": chapter_content\n",
    "            })\n",
    "        return chapters\n",
    "\n",
    "\n",
    "\n",
    "    def split_by_section(self, chapter: dict) -> List[dict]:\n",
    "        \"\"\"\n",
    "        We assume each article (modda) can look like:\n",
    "\n",
    "            1-modda. Article Title\n",
    "            The rest of the article content...\n",
    "        \n",
    "        but sometimes the \"Article Title\" might be on the same line or might\n",
    "        not have a trailing newline.\n",
    "\n",
    "        This pattern:\n",
    "        - Group(1): e.g. \"1-modda\"\n",
    "        - Group(2): the article title (from after \".\" up to the newline or end of line)\n",
    "        - Group(3): (optional) the rest of that article's text (until the next modda, bob, or EOF)\n",
    "        \"\"\"\n",
    "\n",
    "        text = chapter[\"content\"]\n",
    "\n",
    "      \n",
    "        pattern = (\n",
    "    rf\"({self.section_pattern})\\.\\s*\"                  # group(1): modda number, e.g. \"578-modda\"\n",
    "    rf\"([\\s\\S]*?)(?=\\n[A-ZА-Я])\"                       # group(2): captures text lazily until we see newline + uppercase\n",
    "    rf\"(.*?)(?=\\n{self.section_pattern}|$)\"\n",
    ")\n",
    "\n",
    "\n",
    "        matches = re.findall(pattern, text, flags=re.DOTALL)\n",
    "\n",
    "        sections = []\n",
    "        for match in matches:\n",
    "            section_title = match[1].strip()     # e.g. \"1-modda\"\n",
    "            section_name  = match[2].strip()     # e.g. \"Ushbu Kodeks bilan...\"\n",
    "            section_body  = match[3].strip() if match[3] else \"\"  # rest of the modda text\n",
    "\n",
    "            sections.append({\n",
    "                \"chapter_title\": chapter[\"chapter_title\"],\n",
    "                \"section_title\": section_title,\n",
    "                \"section_name\":  section_name.replace(\"\\n\", \"\"),\n",
    "                \"content\":       section_body\n",
    "            })\n",
    "        # print(matches)\n",
    "        return sections\n",
    "\n",
    "\n",
    "    def split_with_chunks(self, section: dict) -> List[Document]:\n",
    "        \"\"\"\n",
    "        Breaks the content of a single article (section) into token-based chunks\n",
    "        using RecursiveCharacterTextSplitter.\n",
    "        \"\"\"\n",
    "        chunks = self.recursive_splitter.split_text(section[\"content\"])\n",
    "        documents = []\n",
    "        for chunk in chunks:\n",
    "            doc = Document(\n",
    "                page_content=chunk,\n",
    "                metadata={\n",
    "                    \"chapter\":       section[\"chapter_title\"],\n",
    "                    \"section\":       section[\"section_title\"],\n",
    "                    \"section_name\":  section[\"section_name\"],\n",
    "                }\n",
    "            )\n",
    "            documents.append(doc)\n",
    "        return documents\n",
    "\n",
    "    def split_text(self, text: str) -> List[Document]:\n",
    "        \"\"\"\n",
    "        1) Split by chapters -> 2) for each chapter, find all modda -> 3) chunk each modda\n",
    "        \"\"\"\n",
    "        all_documents = []\n",
    "        chapters = self.split_by_chapter(text)\n",
    "        for chapter in chapters:\n",
    "            sections = self.split_by_section(chapter)\n",
    "            for section in sections:\n",
    "                chunks = self.split_with_chunks(section)\n",
    "                all_documents.extend(chunks)\n",
    "        return all_documents\n",
    "\n",
    "    def split_documents(self, documents: List[Document]) -> List[Document]:\n",
    "        \"\"\"\n",
    "        Runs the splitting process for each document in the list.\n",
    "        \"\"\"\n",
    "        split_documents = []\n",
    "        for doc in documents:\n",
    "            split_docs = self.split_text(doc.page_content)\n",
    "            split_documents.extend(split_docs)\n",
    "        return split_documents"
   ]
  },
  {
   "cell_type": "code",
   "execution_count": 169,
   "metadata": {},
   "outputs": [],
   "source": [
    "from langchain_community.document_loaders import PyPDFLoader\n",
    "\n",
    "loader = PyPDFLoader(\"data/labor_codex.pdf\")\n",
    "\n",
    "# Load a PDF file\n",
    "docs = loader.load()"
   ]
  },
  {
   "cell_type": "code",
   "execution_count": 170,
   "metadata": {},
   "outputs": [],
   "source": [
    "text = \"\"\n",
    "\n",
    "for i in range(len(docs)):\n",
    "    text += docs[i].page_content"
   ]
  },
  {
   "cell_type": "code",
   "execution_count": 213,
   "metadata": {},
   "outputs": [],
   "source": [
    "chapter_pattern = r\"(?:[IVXLCDM]+ BO‘LIM\\.)\"   # например \"1-bob\"\n",
    "section_pattern = r\"(\\d+-modda)\"  # \"1-modda\"\n",
    "\n",
    "splitter = RegexTextSplitter(\n",
    "    chapter_pattern=chapter_pattern,\n",
    "    section_pattern=section_pattern,\n",
    "    chunk_size=800,\n",
    "    chunk_overlap=400\n",
    ")\n",
    "\n",
    "doc = Document(page_content=text)\n",
    "docs = splitter.split_documents([doc])"
   ]
  },
  {
   "cell_type": "code",
   "execution_count": 214,
   "metadata": {},
   "outputs": [
    {
     "data": {
      "text/plain": [
       "[Document(metadata={'chapter': 'I BO‘LIM. UMUMIY QOIDALAR', 'section': '3-modda', 'section_name': 'Yakka tartibdagi mehnatga oid munosabatlarni va ular bilan bevosita bog‘liq bo‘lgan ijtimoiy munosabatlarni huquqiy jihatdan tartibga solishning asosiy prinsiplari'}, page_content='Yakka tartibdagi mehnatga oid munosabatlarni va ular bilan bevosita bog‘liq bo‘lgan \\nijtimoiy munosabatlarni huquqiy jihatdan tartibga solishning asosiy prinsiplari quyidagilardan iborat: \\nmehnat huquqlarining tengligi, mehnat va mashg‘ulotlar sohasida kamsitishni taqiqlash; \\nmehnat erkinligi va majburiy mehnatni taqiqlash; \\nmehnat sohasidagi ijtimoiy sheriklik; \\nmehnat huquqlari ta’minlanishining va mehnat majburiyatlari bajarilishining \\nkafolatlanganligi; \\nxodimning huquqiy holati yomonlashishiga yo‘l qo‘yilmasligi.'),\n",
       " Document(metadata={'chapter': 'I BO‘LIM. UMUMIY QOIDALAR', 'section': '4-modda', 'section_name': 'Mehnat huquqlarining tengligi, mehnat va mashg‘ulotlar sohasida kamsitishni taqiqlash prinsipi'}, page_content='Har kim mehnat huquqlarini amalga oshirish va himoya qilishda teng imkoniyatlarga ega. \\nOldingi tahrirga qarang. \\nMehnat va mashg‘ulotlar sohasida kamsitish taqiqlanadi. Jinsi, yoshi, irqi, millati, tili, \\nijtimoiy kelib chiqishi, qarindoshlarida sudlanganlikning mavjudl igi, mulkiy holati va mansab \\nmavqeyi, yashash joyi, dinga bo‘lgan munosabati, e’tiqodi, jamoat birlashmalariga mansubligi, \\nshuningdek xodimlarning ishchanlik sifatlari va mehnati natijalari bilan bog‘liq bo‘lmagan boshqa \\njihatlariga qarab mehnat va mashg‘u lotlar sohasida biror -bir to‘g‘ridan -to‘g‘ri yoki bilvosita \\ncheklovlar belgilash, xuddi shuningdek biror -bir to‘g‘ridan-to‘g‘ri yoki bilvosita imtiyozlar berish \\nkamsitishdir. \\n(4-moddaning ikkinchi qismi O‘zbekiston Respublikasining 2024-yil 20-sentabrdagi O‘RQ-963-sonli \\nQonuni tahririda — Qonunchilik ma’lumotlari milliy bazasi, 21.09.2024-y., 03/24/963/0735-son) \\nMehnat va mashg‘ulotlar sohasida xodimlarning huquqlarini mehnatning muayyan turiga \\nxos bo‘lgan talablar yoki yuqoriroq ijtimoiy himoyaga muhtoj bo‘lgan shaxslar (oilaviy vazifalarni \\nbajarish bilan band bo‘lgan shaxslar, voyaga yetmaganlar, nogironligi bo‘ lgan shaxslar, homilador ayollar va boshqalar) to‘g‘risidagi alohida g‘amxo‘rlik bilan bog‘liq holda asoslangan tarzda farqlash, \\nistisno etish, ularga afzallik berish, shuningdek ularni cheklash kamsitish deb hisoblanmaydi. \\nAyrim toifadagi xodimlar mehnatini huquqiy jihatdan tartibga solish borasidagi asoslangan \\nfarqlar xodimning ish beruvchi bilan mehnat aloqasi xususiyatiga, mehnat faoliyati amalga \\noshiriladigan joyga, xodim mehnatining shart -sharoitlari va xususiyatiga, ish beruvchining huquqiy \\nmaqomiga, ba’zi tarmoqlar va kasblardagi xodimlar mehnatining o‘ziga xos xususiyatlariga, \\norganizmning psixofiziologik xususiyatlariga, oilaviy vazifalarning mavjudligiga hamda boshqa'),\n",
       " Document(metadata={'chapter': 'I BO‘LIM. UMUMIY QOIDALAR', 'section': '4-modda', 'section_name': 'Mehnat huquqlarining tengligi, mehnat va mashg‘ulotlar sohasida kamsitishni taqiqlash prinsipi'}, page_content='Mehnat va mashg‘ulotlar sohasida xodimlarning huquqlarini mehnatning muayyan turiga \\nxos bo‘lgan talablar yoki yuqoriroq ijtimoiy himoyaga muhtoj bo‘lgan shaxslar (oilaviy vazifalarni \\nbajarish bilan band bo‘lgan shaxslar, voyaga yetmaganlar, nogironligi bo‘ lgan shaxslar, homilador ayollar va boshqalar) to‘g‘risidagi alohida g‘amxo‘rlik bilan bog‘liq holda asoslangan tarzda farqlash, \\nistisno etish, ularga afzallik berish, shuningdek ularni cheklash kamsitish deb hisoblanmaydi. \\nAyrim toifadagi xodimlar mehnatini huquqiy jihatdan tartibga solish borasidagi asoslangan \\nfarqlar xodimning ish beruvchi bilan mehnat aloqasi xususiyatiga, mehnat faoliyati amalga \\noshiriladigan joyga, xodim mehnatining shart -sharoitlari va xususiyatiga, ish beruvchining huquqiy \\nmaqomiga, ba’zi tarmoqlar va kasblardagi xodimlar mehnatining o‘ziga xos xususiyatlariga, \\norganizmning psixofiziologik xususiyatlariga, oilaviy vazifalarning mavjudligiga hamda boshqa \\nobyektiv holatlarga bog‘liq bo‘lishi mumkin.  \\nMehnat va (yoki) mashg‘ulotlar soha sida o‘zini kamsitilgan deb hisoblagan shaxs \\nkamsitilish fakti ustidan belgilangan tartibda shikoyat qilishi, shu jumladan kamsitishni bartaraf etish \\nhamda o‘ziga yetkazilgan moddiy zararning o‘rnini qoplash va ma’naviy ziyonning kompensatsiya \\nqilinishi to‘g‘risidagi ariza bilan sudga murojaat qilishi mumkin.'),\n",
       " Document(metadata={'chapter': 'I BO‘LIM. UMUMIY QOIDALAR', 'section': '5-modda', 'section_name': 'Mehnat erkinligi va majburiy mehnatni taqiqlash prinsipi'}, page_content='Mehnat erkinligi har kimning mehnat qilishga bo‘lgan o‘z qobiliyatlarini tasarruf etish, \\nularni qonun bilan taqiqlanmagan har qanday sh aklda amalga oshirish, mashg‘ulot turini, kasbni va \\nmutaxassislikni, ish joyini hamda mehnat sharoitlarini erkin tanlash huquqini anglatadi. \\nYakka tartibdagi mehnatga oid munosabatlarga muvofiq mehnat erkinligi mehnat \\nshartnomasi erkinligida namoyon bo‘lib, bu quyidagilarni anglatadi: \\nxodimlar va ish beruvchilarning mehnat shartnomasini tuzishdagi erkinligini. Xodimni va \\nish beruvchini mehnat shartnomasini tuzishga majburlashga yo‘l qo‘yilmaydi. Ish beruvchi xodim \\nbilan mehnat shartnomasini ushbu Kodeksda, qonunda yoki ixtiyoriy ravishda olingan majburiyatda \\nish beruvchining shartnoma tuzish majburiyati nazarda tutilgan hollarda tuzishi shart; \\nmehnat shartnomasining shartnomaviy (asosiy va qo‘shimcha) shartlarini ushbu shartnoma \\ntaraflarining kelishuviga ko‘ra belgilashni; \\nmehnat shartnomasini xodim va ish beruvchi o‘rtasidagi kelishuvga ko‘ra o‘zgartirish \\nimkoniyatini; \\nhar qanday mehnat shartnomasini ushbu shartnoma taraflarining kelishuviga ko‘ra istalgan \\nvaqtda bekor qilish imkoniyatini; \\nxodimning ushbu Kodeksda belgilangan tartibda mehnat shartnomasini o‘z tashabbusi bilan \\nbekor qilish huquqini; \\nish beruvchining xodim bilan tuzilgan mehnat shartnomasini ushbu Kodeksda mehnat \\nshartnomasini bekor qilish uchun nazarda tutilgan asoslar mavjud bo‘lganda va belg ilangan tartibga \\nrioya etilgan holda o‘z tashabbusi bilan bekor qilish huquqini; \\nushbu Kodeksda yoki boshqa qonunda belgilangan hollarda, mehnat shartnomasida uni \\nbekor qilishning qo‘shimcha asoslarini nazarda tutish imkoniyatini. \\nMajburiy mehnat taqiqlanadi. \\nMajburiy mehnat biror-bir jismoniy shaxsdan jazoni qo‘llash tahdidi ostida talab etiladigan, \\nbajarilishi uchun ushbu shaxs ixtiyoriy ravishda o‘z xizmatlarini taklif qilmagan har qanday ishni')]"
      ]
     },
     "execution_count": 214,
     "metadata": {},
     "output_type": "execute_result"
    }
   ],
   "source": [
    "docs[2:6]"
   ]
  },
  {
   "cell_type": "code",
   "execution_count": 197,
   "metadata": {},
   "outputs": [
    {
     "data": {
      "text/plain": [
       "[Document(metadata={'chapter': 'VII BO‘LIM. XODIMLARNING MEHNAT HUQUQLARINI HIMOYA QILISH. MEHNAT \\nNIZOLARINI KO‘RIB CHIQISH 31-bob. Umumiy qoidalar', 'section': '580-modda', 'section_name': 'Jamoaviy mehnat nizosini hal etish ( tartibga solish) jarayonida mehnat nizosining taraflari erishgan kelishuvlar va ularning bajarilishi ustidan nazorat'}, page_content='Nizoni hal etish (tartibga solish) jarayonida jamoaviy mehnat nizosi taraflari erishgan \\nkelishuvlar yozma shaklda rasmiylashtiriladi va jam oaviy mehnat nizosi taraflari uchun majburiy \\nkuchga ega. Ularning bajarilishi ustidan nazorat jamoaviy mehnat nizosining taraflari, shuningdek \\nmehnat nizolarini tartibga solish bo‘yicha davlat organlari tomonidan amalga oshiriladi.'),\n",
       " Document(metadata={'chapter': 'VII BO‘LIM. XODIMLARNING MEHNAT HUQUQLARINI HIMOYA QILISH. MEHNAT \\nNIZOLARINI KO‘RIB CHIQISH 31-bob. Umumiy qoidalar', 'section': '581-modda', 'section_name': 'Da’vo xususiyatiga ega jamoaviy mehnat nizolarini sudda ko‘rib chiqish'}, page_content='Qonunchilikni, jamoa kelishuvlarini va jamoa shartnomasini, ish beruvchi tomonidan kasaba \\nuyushmasi qo‘mitasi bilan kelishilgan holda qabul qilingan ichki hujjatlarni qo‘llash xususidagi \\njamoaviy mehnat nizolari sud tomonidan ko‘rib chiqilishi lozim. \\nUshbu moddaning birinchi qismida ko‘rsatilgan jamoaviy mehnat nizolarini sudlarda ko‘rib \\nchiqish hamda sud qarorlarini ijro etish chog‘ida ushbu Kodeksda y akka tartibdagi mehnat nizolari \\nuchun belgilangan tegishli qoidalar va muddatlar qo‘llaniladi. \\n \\n(Qonunchilik ma’lumotlari milliy bazasi, 29.10.2022-y., 02/22/798/0972-son; 12.04.2023-y., \\n03/23/829/0208-son; 29.11.2023-y., 03/23/880/0905-son; 22.02.2024-y., 03/24/911/0142-son; 04.07.2024-y., \\n03/24/934/0469-son; 21.09.2024-y., 03/24/963/0735-son)')]"
      ]
     },
     "execution_count": 197,
     "metadata": {},
     "output_type": "execute_result"
    }
   ],
   "source": [
    "docs[-2:]"
   ]
  },
  {
   "cell_type": "code",
   "execution_count": 217,
   "metadata": {},
   "outputs": [],
   "source": [
    "# replace 31-bob. Umumiy qoidalar with \"\" from chapter in metadata\n",
    "for doc in docs:\n",
    "    doc.metadata[\"chapter\"] = doc.metadata[\"chapter\"].replace(\"31-bob. Umumiy qoidalar\", \"\")"
   ]
  },
  {
   "cell_type": "code",
   "execution_count": 218,
   "metadata": {},
   "outputs": [
    {
     "data": {
      "text/plain": [
       "[Document(metadata={'chapter': 'VII BO‘LIM. XODIMLARNING MEHNAT HUQUQLARINI HIMOYA QILISH. MEHNAT \\nNIZOLARINI KO‘RIB CHIQISH ', 'section': '580-modda', 'section_name': 'Jamoaviy mehnat nizosini hal etish ( tartibga solish) jarayonida mehnat nizosining taraflari erishgan kelishuvlar va ularning bajarilishi ustidan nazorat'}, page_content='Nizoni hal etish (tartibga solish) jarayonida jamoaviy mehnat nizosi taraflari erishgan \\nkelishuvlar yozma shaklda rasmiylashtiriladi va jam oaviy mehnat nizosi taraflari uchun majburiy \\nkuchga ega. Ularning bajarilishi ustidan nazorat jamoaviy mehnat nizosining taraflari, shuningdek \\nmehnat nizolarini tartibga solish bo‘yicha davlat organlari tomonidan amalga oshiriladi.'),\n",
       " Document(metadata={'chapter': 'VII BO‘LIM. XODIMLARNING MEHNAT HUQUQLARINI HIMOYA QILISH. MEHNAT \\nNIZOLARINI KO‘RIB CHIQISH ', 'section': '581-modda', 'section_name': 'Da’vo xususiyatiga ega jamoaviy mehnat nizolarini sudda ko‘rib chiqish'}, page_content='Qonunchilikni, jamoa kelishuvlarini va jamoa shartnomasini, ish beruvchi tomonidan kasaba \\nuyushmasi qo‘mitasi bilan kelishilgan holda qabul qilingan ichki hujjatlarni qo‘llash xususidagi \\njamoaviy mehnat nizolari sud tomonidan ko‘rib chiqilishi lozim. \\nUshbu moddaning birinchi qismida ko‘rsatilgan jamoaviy mehnat nizolarini sudlarda ko‘rib \\nchiqish hamda sud qarorlarini ijro etish chog‘ida ushbu Kodeksda y akka tartibdagi mehnat nizolari \\nuchun belgilangan tegishli qoidalar va muddatlar qo‘llaniladi. \\n \\n(Qonunchilik ma’lumotlari milliy bazasi, 29.10.2022-y., 02/22/798/0972-son; 12.04.2023-y., \\n03/23/829/0208-son; 29.11.2023-y., 03/23/880/0905-son; 22.02.2024-y., 03/24/911/0142-son; 04.07.2024-y., \\n03/24/934/0469-son; 21.09.2024-y., 03/24/963/0735-son)')]"
      ]
     },
     "execution_count": 218,
     "metadata": {},
     "output_type": "execute_result"
    }
   ],
   "source": [
    "docs[-2:]"
   ]
  },
  {
   "cell_type": "markdown",
   "metadata": {},
   "source": [
    "### Try to generate"
   ]
  },
  {
   "cell_type": "code",
   "execution_count": 189,
   "metadata": {},
   "outputs": [],
   "source": [
    "import os\n",
    "import json\n",
    "from langchain_openai import ChatOpenAI\n",
    "from langchain_core.prompts import ChatPromptTemplate\n",
    "from langchain_core.output_parsers import JsonOutputParser"
   ]
  },
  {
   "cell_type": "code",
   "execution_count": 190,
   "metadata": {},
   "outputs": [
    {
     "data": {
      "text/plain": [
       "True"
      ]
     },
     "execution_count": 190,
     "metadata": {},
     "output_type": "execute_result"
    }
   ],
   "source": [
    "# read .env file\n",
    "from dotenv import load_dotenv\n",
    "\n",
    "load_dotenv()"
   ]
  },
  {
   "cell_type": "code",
   "execution_count": 226,
   "metadata": {},
   "outputs": [],
   "source": [
    "label_template = \"\"\"\n",
    "You are an AI assistant tasked with generating 10 highly focused question-answer pairs **in Uzbek** based **strictly** on the provided document chunk.\n",
    "\n",
    "Context:\n",
    "- Document: \"{chunk}\"\n",
    "- Chapter Name: \"{chapter}\"\n",
    "- Section Name: \"{section}. {section_name}\"\n",
    "\n",
    "Instructions:\n",
    "1. Carefully analyze the given chunk of the document and extract key facts, topics, or concepts.\n",
    "2. Generate **10 questions** that are maximally semantically close to the specific content of this chunk.\n",
    "    - All questions must be **strictly tied** to the content of the chunk, chapter, and section.\n",
    "    - Reuse or closely paraphrase phrases from the chunk wherever possible to maintain high relevance.\n",
    "    - Incorporate synonyms or light rephrasings to capture different ways a user might query this content (e.g., \"mehnat huquqlari\" ↔ \"ish huquqlari\").\n",
    "    - Avoid any extrapolation, assumptions, or references to external knowledge.\n",
    "3. Write the **answers** based only on the given chunk. **Do not invent or assume additional information.**\n",
    "4. Explicitly reference the **chapter name** and **section name** in both the questions and answers for clarity and traceability.\n",
    "5. Use natural, conversational Uzbek language when generating questions. Occasionally include mild typos or colloquialisms to mimic real user queries, but ensure they remain understandable.\n",
    "6. Include a reference link in each answer pointing to the document, chapter, and section for traceability.\n",
    "7. All questions must revolve around a **common theme** in the chunk (e.g., “mehnat huquqlari,” “ish beruvchilarning huquqlari,” etc.).\n",
    "\n",
    "**Example of how to use phrases from the chunk (paraphrasing)**:\n",
    "- If the chunk states: \"Mehnat qilish, erkin ish tanlash va ishsizlikdan himoyalanish huquqi davlat kafolatlari bilan belgilanadi.\"\n",
    "  - A suitable question might be: \"Mehnat qilish va erkin ish tanlash huquqlari haqida {chapter} va {section} nima deyilgan?\"\n",
    "  - The answer must be grounded in the exact text: \"Bu huquqlar davlat kafolatlari orqali belgilanadi. Havola: O‘ZBEKISTON RESPUBLIKASINING MEHNAT KODEKSI. {chapter}. {section}.\"\n",
    "\n",
    "**Answer Example**:\n",
    "If the document says: \"Mehnat huquqlari himoyasi mehnat kodeksining asosiy maqsadi hisoblanadi.\"\n",
    "- Question: \"Mehnat kodeksining asosiy maqsadi nima?\"\n",
    "- Answer: \"Mehnat huquqlarining himoyasi. Havola: O‘ZBEKISTON RESPUBLIKASINING MEHNAT KODEKSI. {{chapter}}, {{section}}. {{section_name}}.\"\n",
    "\n",
    "Output Format:\n",
    "Return a valid JSON object with the following structure:\n",
    "```json\n",
    "{{\n",
    "  \"question_1\": \"Generated question text\",\n",
    "  \"answer_1\": \"Generated answer text\",\n",
    "  \"question_2\": \"Generated question text\",\n",
    "  ...\n",
    "}}\n",
    "\"\"\"\n",
    "\n",
    "label_prompt = ChatPromptTemplate.from_template(label_template)\n",
    "llm = ChatOpenAI(temperature=0.2, model=\"gpt-4o-mini\")\n",
    "\n",
    "label_chain = label_prompt | llm | JsonOutputParser()"
   ]
  },
  {
   "cell_type": "code",
   "execution_count": 220,
   "metadata": {},
   "outputs": [
    {
     "name": "stdout",
     "output_type": "stream",
     "text": [
      "Ushbu Kodeksning asosiy vazifalari quyidagilardan iborat: \n",
      "xodimlar mehnat huquqlari va erkinliklarining, shu jumladan mehnat qilishga, erkin ish \n",
      "tanlashga, adolatli va xavfsiz mehnat sharoitlariga hamda ishsizlikdan himoyalanishga bo‘lgan \n",
      "huquqining davlat kafolatlarini belgilash; \n",
      "ish beruvchilarning ka drlarni tanlash, joy -joyiga qo‘yish va samarali mehnat jarayonini \n",
      "tashkil etish sohasidagi huquqlari amalga oshirilishini ta’minlash; \n",
      "mehnat sohasida ijtimoiy sheriklikni rag‘batlantirish va rivojlantirish; \n",
      "xodimlar va ish beruvchilarning huquqlari hamda q onuniy manfaatlari himoya qilinishini \n",
      "ta’minlash; \n",
      "mehnat bozorining samarali faoliyat ko‘rsatishiga ko‘maklashish.\n"
     ]
    }
   ],
   "source": [
    "print(docs[1].page_content)"
   ]
  },
  {
   "cell_type": "code",
   "execution_count": 196,
   "metadata": {},
   "outputs": [],
   "source": [
    "doc_index = 1\n",
    "\n",
    "# Generate questions for the second document chunk\n",
    "output = label_chain.invoke({\n",
    "    \"chunk\": docs[doc_index].page_content,\n",
    "    \"chapter\": docs[doc_index].metadata[\"chapter\"],\n",
    "    \"section\": docs[doc_index].metadata[\"section\"],\n",
    "    \"section_name\": docs[doc_index].metadata[\"section_name\"]\n",
    "})"
   ]
  },
  {
   "cell_type": "code",
   "execution_count": 200,
   "metadata": {},
   "outputs": [
    {
     "data": {
      "text/plain": [
       "{'question_1': 'Ushbu Kodeksning asosiy vazifalari nimalardan iborat?',\n",
       " 'answer_1': 'Ushbu Kodeksning asosiy vazifalari xodimlar mehnat huquqlari va erkinliklarini, ish beruvchilarning huquqlarini ta’minlash, mehnat sohasida ijtimoiy sheriklikni rivojlantirish va mehnat bozorining samarali faoliyat ko‘rsatishini ko‘maklashishdan iborat. Havola: O‘ZBEKISTON RESPUBLIKASINING MEHNAT KODEKSI. I BO‘LIM. UMUMIY QOIDALAR. 2-modda.',\n",
       " 'question_2': 'Xodimlar mehnat huquqlari qanday himoyalanadi?',\n",
       " 'answer_2': 'Xodimlar mehnat huquqlari davlat kafolatlari orqali himoyalanadi. Havola: O‘ZBEKISTON RESPUBLIKASINING MEHNAT KODEKSI. I BO‘LIM. UMUMIY QOIDALAR. 2-modda.',\n",
       " 'question_3': 'Ish beruvchilarning huquqlari qanday ta’minlanadi?',\n",
       " 'answer_3': 'Ish beruvchilarning huquqlari amalga oshirilishini ta’minlash Kodeksning asosiy vazifalaridan biridir. Havola: O‘ZBEKISTON RESPUBLIKASINING MEHNAT KODEKSI. I BO‘LIM. UMUMIY QOIDALAR. 2-modda.',\n",
       " 'question_4': 'Mehnat sharoitlari qanday bo‘lishi kerak?',\n",
       " 'answer_4': 'Mehnat sharoitlari adolatli va xavfsiz bo‘lishi kerak. Havola: O‘ZBEKISTON RESPUBLIKASINING MEHNAT KODEKSI. I BO‘LIM. UMUMIY QOIDALAR. 2-modda.',\n",
       " 'question_5': 'Ijtimoiy sheriklikni rag‘batlantirish qanday amalga oshiriladi?',\n",
       " 'answer_5': 'Mehnat sohasida ijtimoiy sheriklikni rag‘batlantirish va rivojlantirish Kodeksning asosiy vazifalaridan biridir. Havola: O‘ZBEKISTON RESPUBLIKASINING MEHNAT KODEKSI. I BO‘LIM. UMUMIY QOIDALAR. 2-modda.',\n",
       " 'question_6': 'Ishsizlikdan himoyalanish huquqi qanday belgilanadi?',\n",
       " 'answer_6': 'Ishsizlikdan himoyalanish huquqi davlat kafolatlari bilan belgilanadi. Havola: O‘ZBEKISTON RESPUBLIKASINING MEHNAT KODEKSI. I BO‘LIM. UMUMIY QOIDALAR. 2-modda.',\n",
       " 'question_7': 'Mehnat bozorining samarali faoliyat ko‘rsatishi uchun nimalar qilinadi?',\n",
       " 'answer_7': 'Mehnat bozorining samarali faoliyat ko‘rsatishiga ko‘maklashish Kodeksning asosiy vazifalaridan biridir. Havola: O‘ZBEKISTON RESPUBLIKASINING MEHNAT KODEKSI. I BO‘LIM. UMUMIY QOIDALAR. 2-modda.',\n",
       " 'question_8': 'Xodimlar va ish beruvchilarning huquqlari qanday himoya qilinadi?',\n",
       " 'answer_8': 'Xodimlar va ish beruvchilarning huquqlari hamda qonuniy manfaatlari himoya qilinishini ta’minlash Kodeksning asosiy vazifalaridan biridir. Havola: O‘ZBEKISTON RESPUBLIKASINING MEHNAT KODEKSI. I BO‘LIM. UMUMIY QOIDALAR. 2-modda.',\n",
       " 'question_9': 'Erkin ish tanlash huquqi qanday kafolatlanadi?',\n",
       " 'answer_9': 'Erkin ish tanlash huquqi davlat kafolatlari orqali belgilanadi. Havola: O‘ZBEKISTON RESPUBLIKASINING MEHNAT KODEKSI. I BO‘LIM. UMUMIY QOIDALAR. 2-modda.',\n",
       " 'question_10': 'Mehnat qilish huquqi haqida Kodeksda nima deyilgan?',\n",
       " 'answer_10': 'Mehnat qilish huquqi davlat kafolatlari bilan belgilanadi. Havola: O‘ZBEKISTON RESPUBLIKASINING MEHNAT KODEKSI. I BO‘LIM. UMUMIY QOIDALAR. 2-modda.'}"
      ]
     },
     "execution_count": 200,
     "metadata": {},
     "output_type": "execute_result"
    }
   ],
   "source": [
    "output"
   ]
  },
  {
   "cell_type": "markdown",
   "metadata": {},
   "source": [
    "#### Another example"
   ]
  },
  {
   "cell_type": "code",
   "execution_count": 221,
   "metadata": {},
   "outputs": [
    {
     "data": {
      "text/plain": [
       "693"
      ]
     },
     "execution_count": 221,
     "metadata": {},
     "output_type": "execute_result"
    }
   ],
   "source": [
    "len(docs)"
   ]
  },
  {
   "cell_type": "code",
   "execution_count": 229,
   "metadata": {},
   "outputs": [
    {
     "data": {
      "text/plain": [
       "Document(metadata={'chapter': 'II BO‘LIM. MEHNAT SOHASIDAGI IJTIMOIY SHERIKLIK', 'section': '35-modda', 'section_name': 'Mehnat sohasidagi ijtimoiy sheriklikning darajalari'}, page_content='Mehnat sohasidagi ijtimoiy sheriklik: \\nboshlang‘ich darajada (tashkilotda yoki jismoniy shaxs bo‘lgan ish beruvchida); \\nhududiy darajada;  \\ntarmoq darajasida;  \\nrespublika darajasida amalga oshiriladi.')"
      ]
     },
     "execution_count": 229,
     "metadata": {},
     "output_type": "execute_result"
    }
   ],
   "source": [
    "doc_index = 42\n",
    "docs[doc_index]"
   ]
  },
  {
   "cell_type": "code",
   "execution_count": 228,
   "metadata": {},
   "outputs": [],
   "source": [
    "# Generate questions for the  document chunk\n",
    "output = label_chain.invoke({\n",
    "    \"chunk\": docs[doc_index].page_content,\n",
    "    \"chapter\": docs[doc_index].metadata[\"chapter\"],\n",
    "    \"section\": docs[doc_index].metadata[\"section\"],\n",
    "    \"section_name\": docs[doc_index].metadata[\"section_name\"]\n",
    "})"
   ]
  },
  {
   "cell_type": "code",
   "execution_count": 230,
   "metadata": {},
   "outputs": [
    {
     "data": {
      "text/plain": [
       "{'question_1': 'Mehnat sohasidagi ijtimoiy sheriklikning darajalari qanday belgilangan?',\n",
       " 'answer_1': 'Mehnat sohasidagi ijtimoiy sheriklik boshlang‘ich darajada, hududiy darajada, tarmoq darajasida va respublika darajasida amalga oshiriladi. Havola: O‘ZBEKISTON RESPUBLIKASINING MEHNAT KODEKSI. II BO‘LIM. MEHNAT SOHASIDAGI IJTIMOIY SHERIKLIK. 35-modda.',\n",
       " 'question_2': 'II BO‘LIM. MEHNAT SOHASIDAGI IJTIMOIY SHERIKLIKda mehnat sohasidagi ijtimoiy sheriklikning darajalari qanday ko‘rsatilgan?',\n",
       " 'answer_2': 'Mehnat sohasidagi ijtimoiy sheriklik boshlang‘ich, hududiy, tarmoq va respublika darajasida amalga oshiriladi. Havola: O‘ZBEKISTON RESPUBLIKASINING MEHNAT KODEKSI. II BO‘LIM. MEHNAT SOHASIDAGI IJTIMOIY SHERIKLIK. 35-modda.',\n",
       " 'question_3': 'Mehnat sohasidagi ijtimoiy sheriklikning boshlang‘ich darajasi nimani anglatadi?',\n",
       " 'answer_3': 'Boshlang‘ich darajada mehnat sohasidagi ijtimoiy sheriklik tashkilotda yoki jismoniy shaxs bo‘lgan ish beruvchida amalga oshiriladi. Havola: O‘ZBEKISTON RESPUBLIKASINING MEHNAT KODEKSI. II BO‘LIM. MEHNAT SOHASIDAGI IJTIMOIY SHERIKLIK. 35-modda.',\n",
       " 'question_4': 'Hududiy darajada mehnat sohasidagi ijtimoiy sheriklik qanday amalga oshiriladi?',\n",
       " 'answer_4': 'Hududiy darajada mehnat sohasidagi ijtimoiy sheriklik amalga oshiriladi, bu daraja ijtimoiy sheriklikning bir qismidir. Havola: O‘ZBEKISTON RESPUBLIKASINING MEHNAT KODEKSI. II BO‘LIM. MEHNAT SOHASIDAGI IJTIMOIY SHERIKLIK. 35-modda.',\n",
       " 'question_5': 'Tarmoq darajasida mehnat sohasidagi ijtimoiy sheriklik qanday tushuniladi?',\n",
       " 'answer_5': 'Tarmoq darajasida mehnat sohasidagi ijtimoiy sheriklik amalga oshiriladi, bu daraja ijtimoiy sheriklikning muhim qismidir. Havola: O‘ZBEKISTON RESPUBLIKASINING MEHNAT KODEKSI. II BO‘LIM. MEHNAT SOHASIDAGI IJTIMOIY SHERIKLIK. 35-modda.',\n",
       " 'question_6': 'Respublika darajasida mehnat sohasidagi ijtimoiy sheriklik qanday amalga oshiriladi?',\n",
       " 'answer_6': 'Respublika darajasida mehnat sohasidagi ijtimoiy sheriklik amalga oshiriladi, bu ijtimoiy sheriklikning eng yuqori darajasidir. Havola: O‘ZBEKISTON RESPUBLIKASINING MEHNAT KODEKSI. II BO‘LIM. MEHNAT SOHASIDAGI IJTIMOIY SHERIKLIK. 35-modda.',\n",
       " 'question_7': 'Mehnat sohasidagi ijtimoiy sheriklikning darajalari qaysilar?',\n",
       " 'answer_7': 'Mehnat sohasidagi ijtimoiy sheriklikning darajalari boshlang‘ich, hududiy, tarmoq va respublika darajasidir. Havola: O‘ZBEKISTON RESPUBLIKASINING MEHNAT KODEKSI. II BO‘LIM. MEHNAT SOHASIDAGI IJTIMOIY SHERIKLIK. 35-modda.',\n",
       " 'question_8': 'Mehnat sohasidagi ijtimoiy sheriklikning boshlang‘ich darajasi qaysi tashkilotlarda amalga oshadi?',\n",
       " 'answer_8': 'Boshlang‘ich darajada mehnat sohasidagi ijtimoiy sheriklik tashkilotda yoki jismoniy shaxs bo‘lgan ish beruvchida amalga oshiriladi. Havola: O‘ZBEKISTON RESPUBLIKASINING MEHNAT KODEKSI. II BO‘LIM. MEHNAT SOHASIDAGI IJTIMOIY SHERIKLIK. 35-modda.',\n",
       " 'question_9': 'Mehnat sohasidagi ijtimoiy sheriklikning tarmoq darajasi nimani anglatadi?',\n",
       " 'answer_9': 'Tarmoq darajasida mehnat sohasidagi ijtimoiy sheriklik amalga oshiriladi, bu ijtimoiy sheriklikning muhim qismidir. Havola: O‘ZBEKISTON RESPUBLIKASINING MEHNAT KODEKSI. II BO‘LIM. MEHNAT SOHASIDAGI IJTIMOIY SHERIKLIK. 35-modda.',\n",
       " 'question_10': 'Mehnat sohasidagi ijtimoiy sheriklikning hududiy darajasi qanday amalga oshiriladi?',\n",
       " 'answer_10': 'Hududiy darajada mehnat sohasidagi ijtimoiy sheriklik amalga oshiriladi, bu ijtimoiy sheriklikning bir qismidir. Havola: O‘ZBEKISTON RESPUBLIKASINING MEHNAT KODEKSI. II BO‘LIM. MEHNAT SOHASIDAGI IJTIMOIY SHERIKLIK. 35-modda.'}"
      ]
     },
     "execution_count": 230,
     "metadata": {},
     "output_type": "execute_result"
    }
   ],
   "source": [
    "output"
   ]
  }
 ],
 "metadata": {
  "kernelspec": {
   "display_name": ".venv",
   "language": "python",
   "name": "python3"
  },
  "language_info": {
   "codemirror_mode": {
    "name": "ipython",
    "version": 3
   },
   "file_extension": ".py",
   "mimetype": "text/x-python",
   "name": "python",
   "nbconvert_exporter": "python",
   "pygments_lexer": "ipython3",
   "version": "3.11.2"
  }
 },
 "nbformat": 4,
 "nbformat_minor": 2
}
